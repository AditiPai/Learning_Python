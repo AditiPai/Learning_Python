{
  "nbformat": 4,
  "nbformat_minor": 0,
  "metadata": {
    "colab": {
      "provenance": [],
      "authorship_tag": "ABX9TyNbwZhRvi51eMJNNB9veXwC",
      "include_colab_link": true
    },
    "kernelspec": {
      "name": "python3",
      "display_name": "Python 3"
    },
    "language_info": {
      "name": "python"
    }
  },
  "cells": [
    {
      "cell_type": "markdown",
      "metadata": {
        "id": "view-in-github",
        "colab_type": "text"
      },
      "source": [
        "<a href=\"https://colab.research.google.com/github/AditiPai/Learning_Python/blob/main/python_day8.ipynb\" target=\"_parent\"><img src=\"https://colab.research.google.com/assets/colab-badge.svg\" alt=\"Open In Colab\"/></a>"
      ]
    },
    {
      "cell_type": "code",
      "execution_count": null,
      "metadata": {
        "colab": {
          "base_uri": "https://localhost:8080/"
        },
        "id": "nvvpSD5uL6Tx",
        "outputId": "2d7bc6a6-3e7c-44b8-b732-19aed6ddd4a2"
      },
      "outputs": [
        {
          "output_type": "stream",
          "name": "stdout",
          "text": [
            "enter the number of elements3\n",
            "2\n",
            "3\n",
            "1\n",
            "1\n",
            "1 1 1 "
          ]
        }
      ],
      "source": [
        "#Given an array of integers and a number \"k\" fint the count of distinct elements in every window of size \"k\" in the array\n",
        "#sliding window\n",
        "\n",
        "def count_distinct_elements(arr,n, k):\n",
        "  result = []\n",
        "\n",
        "  for i in range(0,n-k+1):\n",
        "    window = arr[i:i+k]\n",
        "    distinct_count = len(set(window))\n",
        "    result.append(distinct_count)\n",
        "\n",
        "  return result\n",
        "\n",
        "n = int(input(\"enter the number of elements\"))\n",
        "#taking list as an input\n",
        "arr = []\n",
        "for _ in range(n):\n",
        "  arr.append(int(input()))\n",
        "\n",
        "k = int(input())\n",
        "result = count_distinct_elements(arr,n,k)\n",
        "for count in result:\n",
        "  print(count,end=\" \")"
      ]
    },
    {
      "cell_type": "code",
      "source": [
        "# an sum of elements in lower indices is equal to sum of element in higher indices\n",
        "#example arr=[-7 ,1, 5, 2 ,-4, 3, 0] else if no such point exists return -1\n",
        "\n",
        "def equi(arr):\n",
        "  left_sum = 0\n",
        "  right_sum =0\n",
        "  for i in range(0,n):\n",
        "    left_sum = sum(arr[i:])\n",
        "    right_sum = sum(arr[:i+1])\n",
        "    if left_sum == right_sum:\n",
        "      return i\n",
        "  return -1\n",
        "arr =[4,0 ,4]\n",
        "print(equi(arr))"
      ],
      "metadata": {
        "colab": {
          "base_uri": "https://localhost:8080/"
        },
        "id": "oJ1ylPp_TbSx",
        "outputId": "c772d615-1020-46c7-f4f2-4b27bcf8e7ae"
      },
      "execution_count": null,
      "outputs": [
        {
          "output_type": "stream",
          "name": "stdout",
          "text": [
            "1\n"
          ]
        }
      ]
    },
    {
      "cell_type": "code",
      "source": [
        "#you are given a MxN integer grid accounts where accounts of i,j is the amount of money\n",
        "#the i th customer has in jth bank the coustomers wealth is the amount of money\n",
        "#they have in their bank account the richest customer is the customer that has the maximum wealth\n",
        "\"\"\"\n",
        "input  = [[1,5],[7,3],[3,5]]\n",
        "output = 10\n",
        "\n",
        "\"\"\"\n",
        "\n",
        "def richest_customer(arr):\n",
        "  max_wealth = 0\n",
        "\n",
        "  for cus in accounts:\n",
        "    wealth = sum(cus)\n",
        "    if wealth > max_wealth:\n",
        "      max_wealth = wealth\n",
        "  return max_wealth\n",
        "\n",
        "\n",
        "m = int(input(\"enter the number of customers: \"))\n",
        "n = int(input(\"enter the number of banks: \"))\n",
        "\n",
        "accounts =[]\n",
        "for i in range (m):\n",
        "  print(f\"enter the wealth for customer {i+1} in {n} banks: \")\n",
        "  customer_wealth = list(map(int,input().split()))\n",
        "  accounts. append(customer_wealth)\n",
        "\n",
        "print(richest_customer(accounts))\n"
      ],
      "metadata": {
        "id": "8c1Z-TL-nBKC"
      },
      "execution_count": null,
      "outputs": []
    },
    {
      "cell_type": "code",
      "source": [
        "#given an array of size n-1 such that it only conatins distinct integers in the range of 1 to n find the missing element\n",
        "\n",
        "\"\"\"\n",
        "input\n",
        "n= 10\n",
        "arr = [6, 1 , 2,8,3,4,7 , 10, 5]\n",
        "\n",
        "\"\"\"\n",
        "\n"
      ],
      "metadata": {
        "id": "pC-w74e6nGp7"
      },
      "execution_count": null,
      "outputs": []
    },
    {
      "cell_type": "code",
      "source": [
        "#Generate random number\n",
        "import random\n",
        "def generate_ran_no(low,high):\n",
        "  return random.randint(low,high)\n",
        "def check_guess(secret_no,guess):\n",
        "  if guess < secret_no:\n",
        "   return \"Too low\"\n",
        "  elif guess > secret_no:\n",
        "    return \"Too high\"\n",
        "  else:\n",
        "    return \"Correct\"\n",
        "\n",
        "\n",
        "low=1\n",
        "high=100\n",
        "  secret_no=generate_ran_no(low,high)\n",
        "  print(f\"Welcome to the number guessing game!\")\n",
        "  print(f\"Guess a number between {low} and {high}:\")\n",
        "  guesses=0\n",
        "  while True:\n",
        "    guess=int(input(\"Enter your guess:\"))\n",
        "    result=check_guess(secret_no,guess)\n",
        "    print(result)\n",
        "    guesses+=1\n",
        "    if result==\"Correct\":\n",
        "     print(f\"you guessed the number in {guesses} guesses\")\n",
        "     break\n"
      ],
      "metadata": {
        "id": "_MUeDqJtnGuV"
      },
      "execution_count": null,
      "outputs": []
    },
    {
      "cell_type": "code",
      "source": [
        "import random\n",
        "def demonstrate_random_module():\n",
        "  print(\"random module demonstration:\")\n",
        "  print(\"\\n random.raandom():\")\n",
        "  print(random.random())\n",
        "  print(\"\\n random.uniform(1,10):\")\n",
        "  print(random.uniform(1,10))\n",
        "\n",
        "  print(\"\\n random.randint(1,10):\")\n",
        "  print(random.randint(1,10))\n",
        "\n",
        "  print(\"\\n random.randrange(1,10,2):\")\n",
        "  print(random.randrange(1,10,2))\n",
        "\n",
        "  mylist=[1,2,3,4,5]\n",
        "  print(\"\\n random.choice[(1,2,3,4,5)]:\")\n",
        "  print(random.choice(mylist,k=3))\n",
        "\n",
        "  print(\"\\nrandom.sample([1,2,3,4,5],k=3:\")\n",
        "  print(random.sample(mylist,k=3))\n",
        "\n",
        "  print(\"\\nrandom.shuffle(mylist):\")\n",
        "  random.shuffle(mylist)\n",
        "  print(mylist)\n",
        "\n",
        "  print(\"\\nrandom.seed(10) and random.random():\")\n",
        "  random.seed(10)\n",
        "  print(random.random())\n",
        "\n",
        "  print(\"\\nrandom.seed(10) and random.random():\")\n",
        "  random.seed(10)\n",
        "  print(random.random())\n",
        "\n",
        "  print(\"\\nrandom.getrandbits(5):\")\n",
        "  print(random.getrandbits(5))\n",
        "\n",
        "  print(\"\\nrandom.gauss(0,1):\")\n",
        "  print(random.gauss(0,1))\n",
        "\n",
        "if __name__==\"__main__\":\n",
        "  demonstrate_random_module()"
      ],
      "metadata": {
        "id": "w-ZRybAwnGxL",
        "colab": {
          "base_uri": "https://localhost:8080/",
          "height": 547
        },
        "outputId": "c4ac0a74-6c7d-4624-b8f2-021b48ec1f6e"
      },
      "execution_count": null,
      "outputs": [
        {
          "output_type": "stream",
          "name": "stdout",
          "text": [
            "random module demonstration:\n",
            "\n",
            " random.raandom():\n",
            "0.32739295087718956\n",
            "\n",
            " random.uniform(1,10):\n",
            "1.8841773490277733\n",
            "\n",
            " random.randint(1,10):\n",
            "1\n",
            "\n",
            " random.randrange(1,10,2):\n",
            "7\n",
            "\n",
            " random.choice[(1,2,3,4,5)]:\n"
          ]
        },
        {
          "output_type": "error",
          "ename": "TypeError",
          "evalue": "Random.choice() got an unexpected keyword argument 'k'",
          "traceback": [
            "\u001b[0;31m---------------------------------------------------------------------------\u001b[0m",
            "\u001b[0;31mTypeError\u001b[0m                                 Traceback (most recent call last)",
            "\u001b[0;32m<ipython-input-8-257e9bf92add>\u001b[0m in \u001b[0;36m<cell line: 40>\u001b[0;34m()\u001b[0m\n\u001b[1;32m     39\u001b[0m \u001b[0;34m\u001b[0m\u001b[0m\n\u001b[1;32m     40\u001b[0m \u001b[0;32mif\u001b[0m \u001b[0m__name__\u001b[0m\u001b[0;34m==\u001b[0m\u001b[0;34m\"__main__\"\u001b[0m\u001b[0;34m:\u001b[0m\u001b[0;34m\u001b[0m\u001b[0;34m\u001b[0m\u001b[0m\n\u001b[0;32m---> 41\u001b[0;31m   \u001b[0mdemonstrate_random_module\u001b[0m\u001b[0;34m(\u001b[0m\u001b[0;34m)\u001b[0m\u001b[0;34m\u001b[0m\u001b[0;34m\u001b[0m\u001b[0m\n\u001b[0m",
            "\u001b[0;32m<ipython-input-8-257e9bf92add>\u001b[0m in \u001b[0;36mdemonstrate_random_module\u001b[0;34m()\u001b[0m\n\u001b[1;32m     15\u001b[0m   \u001b[0mmylist\u001b[0m\u001b[0;34m=\u001b[0m\u001b[0;34m[\u001b[0m\u001b[0;36m1\u001b[0m\u001b[0;34m,\u001b[0m\u001b[0;36m2\u001b[0m\u001b[0;34m,\u001b[0m\u001b[0;36m3\u001b[0m\u001b[0;34m,\u001b[0m\u001b[0;36m4\u001b[0m\u001b[0;34m,\u001b[0m\u001b[0;36m5\u001b[0m\u001b[0;34m]\u001b[0m\u001b[0;34m\u001b[0m\u001b[0;34m\u001b[0m\u001b[0m\n\u001b[1;32m     16\u001b[0m   \u001b[0mprint\u001b[0m\u001b[0;34m(\u001b[0m\u001b[0;34m\"\\n random.choice[(1,2,3,4,5)]:\"\u001b[0m\u001b[0;34m)\u001b[0m\u001b[0;34m\u001b[0m\u001b[0;34m\u001b[0m\u001b[0m\n\u001b[0;32m---> 17\u001b[0;31m   \u001b[0mprint\u001b[0m\u001b[0;34m(\u001b[0m\u001b[0mrandom\u001b[0m\u001b[0;34m.\u001b[0m\u001b[0mchoice\u001b[0m\u001b[0;34m(\u001b[0m\u001b[0mmylist\u001b[0m\u001b[0;34m,\u001b[0m\u001b[0mk\u001b[0m\u001b[0;34m=\u001b[0m\u001b[0;36m3\u001b[0m\u001b[0;34m)\u001b[0m\u001b[0;34m)\u001b[0m\u001b[0;34m\u001b[0m\u001b[0;34m\u001b[0m\u001b[0m\n\u001b[0m\u001b[1;32m     18\u001b[0m \u001b[0;34m\u001b[0m\u001b[0m\n\u001b[1;32m     19\u001b[0m   \u001b[0mprint\u001b[0m\u001b[0;34m(\u001b[0m\u001b[0;34m\"\\nrandom.sample([1,2,3,4,5],k=3:\"\u001b[0m\u001b[0;34m)\u001b[0m\u001b[0;34m\u001b[0m\u001b[0;34m\u001b[0m\u001b[0m\n",
            "\u001b[0;31mTypeError\u001b[0m: Random.choice() got an unexpected keyword argument 'k'"
          ]
        }
      ]
    },
    {
      "cell_type": "code",
      "source": [],
      "metadata": {
        "id": "hIZHPSoJnG0D"
      },
      "execution_count": null,
      "outputs": []
    },
    {
      "cell_type": "code",
      "source": [
        "# develop a python program to convert binary to decimal octal to hexadecimal\n",
        "'''\n",
        "def convertbd(num):\n",
        "  #decimal\n",
        "  a= int(num,2)\n",
        "  print(a)\n",
        "\n",
        "'''\n",
        "def convertoh(num2):\n",
        "  d=int(num2,8)\n",
        "  print(\"the decimal equivalent is \",d)\n",
        "\n",
        "  c= hex(d)[2:]\n",
        "  print(\"the hex decimal is \",c)\n",
        "\n",
        "'''\n",
        "num = input(\"enter a binary number: \")\n",
        "convertbd(num)'''\n",
        "num2 = input(\"enter a octal number: \")\n",
        "convertoh(num2)"
      ],
      "metadata": {
        "id": "hkPw-2e5nG2Y",
        "colab": {
          "base_uri": "https://localhost:8080/"
        },
        "outputId": "9820b430-4864-4137-b09f-bc97c61c29e3"
      },
      "execution_count": null,
      "outputs": [
        {
          "output_type": "stream",
          "name": "stdout",
          "text": [
            "enter a octal number: 222\n",
            "the decimal equivalent is  146\n",
            "the hex decimal is  92\n"
          ]
        }
      ]
    },
    {
      "cell_type": "code",
      "source": [],
      "metadata": {
        "id": "sV_b3COmJDyg"
      },
      "execution_count": null,
      "outputs": []
    },
    {
      "cell_type": "code",
      "source": [],
      "metadata": {
        "id": "iHgLspt1JD1D"
      },
      "execution_count": null,
      "outputs": []
    },
    {
      "cell_type": "code",
      "source": [],
      "metadata": {
        "id": "MeRwo4KPJD3J"
      },
      "execution_count": null,
      "outputs": []
    }
  ]
}