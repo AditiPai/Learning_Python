{
  "cells": [
    {
      "cell_type": "markdown",
      "metadata": {
        "id": "view-in-github",
        "colab_type": "text"
      },
      "source": [
        "<a href=\"https://colab.research.google.com/github/AditiPai/Learning_Python/blob/main/python_day7.ipynb\" target=\"_parent\"><img src=\"https://colab.research.google.com/assets/colab-badge.svg\" alt=\"Open In Colab\"/></a>"
      ]
    },
    {
      "cell_type": "code",
      "execution_count": null,
      "metadata": {
        "colab": {
          "base_uri": "https://localhost:8080/"
        },
        "id": "Vo4uwO9I3GdV",
        "outputId": "27cf5e3e-d92c-47e4-f8fe-2c920042913c"
      },
      "outputs": [
        {
          "name": "stdout",
          "output_type": "stream",
          "text": [
            "there are many types of birds\n",
            "most of the birds can fly but some cannot\n",
            "there are many types of birds\n",
            "sparrow can fly\n",
            "there are many types of birds\n",
            "ostrich cannot fly\n"
          ]
        }
      ],
      "source": [
        "#polymorphism and inheritance\n",
        "\n",
        "class Bird:\n",
        "\n",
        "  def intro(self):\n",
        "    print(\"there are many types of birds\")\n",
        "  def flight(self):\n",
        "    print(\"most of the birds can fly but some cannot\")\n",
        "\n",
        "#child class1\n",
        "class sparrow(Bird):\n",
        "  def flight(self):\n",
        "    print(\"sparrow can fly\")\n",
        "\n",
        "#child class2\n",
        "class ostrich(Bird):\n",
        "  def flight(self):\n",
        "    print(\"ostrich cannot fly\")\n",
        "\n",
        "obj_bird = Bird()\n",
        "obj_spr = sparrow()\n",
        "obj_ost = ostrich()\n",
        "\n",
        "obj_bird.intro()\n",
        "obj_bird.flight()\n",
        "\n",
        "obj_spr.intro()\n",
        "obj_spr.flight()\n",
        "\n",
        "obj_ost.intro()\n",
        "obj_ost.flight()"
      ]
    },
    {
      "cell_type": "code",
      "execution_count": null,
      "metadata": {
        "colab": {
          "base_uri": "https://localhost:8080/"
        },
        "id": "MiJlYEi26NYV",
        "outputId": "abff3d11-171d-4e34-d038-0c30a1d051d6"
      },
      "outputs": [
        {
          "name": "stdout",
          "output_type": "stream",
          "text": [
            "Public Data Member: hello\n",
            "protected Data Member:  all\n",
            "private data member : people !\n",
            "object is accessing protecetd member: all\n"
          ]
        }
      ],
      "source": [
        "#access modifiers\n",
        "\n",
        "class super:\n",
        "    #public data member\n",
        "    var1=None\n",
        "\n",
        "    #protected data member\n",
        "    _var2=None\n",
        "\n",
        "    #private data member\n",
        "    __var3=None\n",
        "\n",
        "    #constructor\n",
        "    def __init__(self,var1,var2,var3):\n",
        "        self.var1=var1\n",
        "        self._var2=var2\n",
        "        self.__var3=var3\n",
        "\n",
        "    #public member function\n",
        "    def displaypublicmembers(self):\n",
        "        print(\"Public Data Member:\",self.var1)     #printing the public member\n",
        "\n",
        "    #protected member function\n",
        "    def _displayprotectedmember(self):\n",
        "        print(\"protected Data Member: \",self._var2)      #printng the protected member\n",
        "\n",
        "    #private member function\n",
        "    def __displayprivatemember(self):\n",
        "        print(\"private data member :\",self.__var3)      #printing the private member\n",
        "\n",
        "\n",
        "    #public member function\n",
        "    def accessprivatemember(self):\n",
        "        self.__displayprivatemember()           #accessing the private member through public member function\n",
        "\n",
        "class sub(super):\n",
        "    #constructor\n",
        "    def __init__(self,var1,var2,var3):\n",
        "        super.__init__(self,var1,var2,var3)\n",
        "\n",
        "    #public member function\n",
        "    def accessprotectedmember(self):\n",
        "        self._displayprotectedmember()    #accessing the protected member function of super class\n",
        "\n",
        "obj=sub(\"hello\",\"all\",\"people !\")\n",
        "\n",
        "    #calling public member functions of the class\n",
        "obj.displaypublicmembers()\n",
        "obj.accessprotectedmember()\n",
        "obj.accessprivatemember()\n",
        "\n",
        "#object can access protected member\n",
        "print(\"object is accessing protecetd member:\",obj._var2)\n",
        "\n",
        "#object can not access priate member,so it will generate attributec"
      ]
    },
    {
      "cell_type": "code",
      "execution_count": null,
      "metadata": {
        "colab": {
          "base_uri": "https://localhost:8080/"
        },
        "id": "l1qZOt7ICNEU",
        "outputId": "f6ad458f-981b-4799-af0b-d6540d24fcce"
      },
      "outputs": [
        {
          "name": "stdout",
          "output_type": "stream",
          "text": [
            "Added 2 of Apple to the cart\n",
            "Added 3 of Banana to the cart\n",
            "Added 1 of Orange to the cart\n",
            "Shopping Cart:\n",
            "Apple: 2 x $100 = $200\n",
            "Total Cost: 500\n",
            "Banana: 3 x $50 = $150\n",
            "Total Cost: 500\n",
            "Orange: 1 x $150 = $150\n",
            "Total Cost: 500\n",
            "Removed 1 of Banana from the cart\n",
            "Shopping Cart:\n",
            "Apple: 2 x $100 = $200\n",
            "Total Cost: 450\n",
            "Banana: 2 x $50 = $100\n",
            "Total Cost: 450\n",
            "Orange: 1 x $150 = $150\n",
            "Total Cost: 450\n"
          ]
        }
      ],
      "source": [
        "#write a python program to create a class representing shopping cart include\n",
        "#methods for adding and removing items and calculating total price\n",
        "\n",
        "class shoppingcart():\n",
        "\n",
        "  def __init__(self):\n",
        "    self.items = {}mj7]\n",
        "\n",
        "  def add_item(self, item_name, price, quantity):\n",
        "    if item_name in self.items:\n",
        "# if item already exist just increment the quantity\n",
        "      self.items[item_name]['quantity'] += quantity\n",
        "    else:\n",
        "      self.items[item_name] = {'price': price, 'quantity': quantity}\n",
        "      print(f\"Added {quantity} of {item_name} to the cart\")\n",
        "\n",
        "\n",
        "  def remove_item(self, item_name, quantity):\n",
        "#try to remove more quantity than already present,then delete all\n",
        "    if item_name in self.items:\n",
        "      if self.items[item_name]['quantity'] <= quantity:\n",
        "        del self.items[item_name]\n",
        "        print(\"Removed all {} from the cart\".format(item_name))\n",
        "#decrement the quantity\n",
        "      else:\n",
        "        self.items[item_name]['quantity'] -= quantity\n",
        "        print(\"Removed {} of {} from the cart\".format(quantity,item_name))\n",
        "    else:\n",
        "      print(\"{} is not found in the cart\".format(item_name))\n",
        "\n",
        "  def calculate(self):\n",
        "    total_price = 0\n",
        "    for item in self.items.values():\n",
        "      total_price +=item[\"price\"]*item[\"quantity\"]\n",
        "    return total_price\n",
        "\n",
        "  def displayCart(self):\n",
        "    if not self.items:\n",
        "      print(\"the cart is empty\")\n",
        "    else:\n",
        "      print(\"Shopping Cart:\")\n",
        "      for item_name, item_info in self.items.items():\n",
        "        print(f\"{item_name}: {item_info['quantity']} x ${item_info['price']} = ${item_info['price'] * item_info['quantity']}\")\n",
        "        print(\"Total Cost:\",cart.calculate())\n",
        "\n",
        "\n",
        "# Create a shopping cart object\n",
        "cart = shoppingcart()\n",
        "\n",
        "# Add items to the cart\n",
        "cart.add_item(\"Apple\", 100, 2)\n",
        "cart.add_item(\"Banana\", 50, 3)\n",
        "cart.add_item(\"Orange\", 150, 1)\n",
        "\n",
        "# Display the cart\n",
        "cart.displayCart()\n",
        "\n",
        "# Remove an item from the cart\n",
        "cart.remove_item(\"Banana\", 1)\n",
        "\n",
        "# Display the cart again\n",
        "cart.displayCart()"
      ]
    },
    {
      "cell_type": "code",
      "execution_count": null,
      "metadata": {
        "colab": {
          "base_uri": "https://localhost:8080/"
        },
        "id": "dlJztkRQD4Z1",
        "outputId": "d4d34586-4783-4c7d-e2ff-cc3befb8f135"
      },
      "outputs": [
        {
          "name": "stdout",
          "output_type": "stream",
          "text": [
            "[11, 12, 22, 25, 64]\n"
          ]
        }
      ],
      "source": [
        "#selection sort\n",
        "\n",
        "def selection_sort(arr):\n",
        "  n = len(arr)\n",
        "  for i in range(0,n-1):\n",
        "    min_idx = i\n",
        "    for j in range(i+1, n):\n",
        "      if arr[j] < arr[min_idx]:\n",
        "        min_idx = j\n",
        "    arr[i],arr[min_idx]= arr[min_idx],arr[i]\n",
        "  return arr\n",
        "arr = [64, 25, 12 , 22, 11]\n",
        "a=selection_sort(arr)\n",
        "print(a)"
      ]
    },
    {
      "cell_type": "code",
      "execution_count": null,
      "metadata": {
        "colab": {
          "base_uri": "https://localhost:8080/"
        },
        "id": "RwZTByBtf4Ud",
        "outputId": "5bb23730-13a7-41ba-8d2c-f42c514ec63d"
      },
      "outputs": [
        {
          "name": "stdout",
          "output_type": "stream",
          "text": [
            "sorted array: [10, 20, 30, 40, 50, 60, 70, 80, 90]\n"
          ]
        }
      ],
      "source": [
        "# insertion sort\n",
        "def insertionsort(arr):\n",
        "  n=len(arr)\n",
        "  for i in range(1,n):\n",
        "    key=arr[i]\n",
        "    j=i-1\n",
        "    while j>=0 and arr[j]>key:\n",
        "      arr[j+1]=arr[j]\n",
        "      j=j-1\n",
        "      arr[j+1]=key\n",
        "\n",
        "arr=[60,20,30,40,50,10,80,90,70]\n",
        "insertionsort(arr)\n",
        "print(\"sorted array:\",arr)\n"
      ]
    },
    {
      "cell_type": "code",
      "execution_count": null,
      "metadata": {
        "colab": {
          "base_uri": "https://localhost:8080/"
        },
        "id": "jxP4NDbCi-Xd",
        "outputId": "6fadff81-8f4c-47f7-9bcf-2c51bc8e4435"
      },
      "outputs": [
        {
          "name": "stdout",
          "output_type": "stream",
          "text": [
            "[2, 4, 6, 7, 9, 10]\n"
          ]
        }
      ],
      "source": [
        "#merge sort\n",
        "\n",
        "def mergeSort(arr):\n",
        "  if len(arr) > 1:\n",
        "\n",
        "    #create sub_array\n",
        "\n",
        "    mid =len(arr)//2\n",
        "    sub_array1 = arr[:mid]\n",
        "    sub_array2 = arr[mid:]\n",
        "\n",
        "    #sort the two halves\n",
        "    mergeSort(sub_array1)\n",
        "    mergeSort(sub_array2)\n",
        "\n",
        "    i=j=k=0\n",
        "\n",
        "    #until we reach the end of either start or end, pick larger\n",
        "    #elements start and end and place them in the correct position\n",
        "    while i < len(sub_array1) and j < len(sub_array2):\n",
        "      if sub_array1[i] < sub_array2[j]:\n",
        "        arr[k] = sub_array1[i]\n",
        "        i += 1\n",
        "      else:\n",
        "        arr[k] = sub_array2[j]\n",
        "        j += 1\n",
        "\n",
        "      k +=1\n",
        "\n",
        "    while i < len(sub_array1):\n",
        "        arr[k] = sub_array1[i]\n",
        "        i += 1\n",
        "        k += 1\n",
        "\n",
        "    while j < len(sub_array2):\n",
        "        arr[k] = sub_array2[j]\n",
        "        j +=1\n",
        "        k +=1\n",
        "\n",
        "arr=[10,9,4,2,6,7]\n",
        "mergeSort(arr)\n",
        "print(arr)\n"
      ]
    },
    {
      "cell_type": "code",
      "execution_count": null,
      "metadata": {
        "colab": {
          "base_uri": "https://localhost:8080/"
        },
        "id": "4AD0hDvvC_lG",
        "outputId": "edadac33-2c73-4b07-a4e7-d9d3b6d6fc51"
      },
      "outputs": [
        {
          "output_type": "stream",
          "name": "stdout",
          "text": [
            "[5, 6, 7, 11, 12, 13]\n"
          ]
        }
      ],
      "source": [
        "#Quick sort\n",
        "\n",
        "def quickSort(arr):\n",
        "  if len(arr)<=1:\n",
        "    return arr\n",
        "  pivot = arr[len(arr)//2]\n",
        "  left =[x for x in arr if x< pivot]\n",
        "  middle=[x for x in arr if x == pivot]\n",
        "  right = [x for x in arr if x > pivot]\n",
        "  return quickSort(left)+middle + quickSort(right)\n",
        "\n",
        "#driver code\n",
        "\n",
        "arr = [12, 11, 13,5,6,7]\n",
        "sorted= quickSort(arr)\n",
        "print(sorted)"
      ]
    },
    {
      "cell_type": "code",
      "execution_count": null,
      "metadata": {
        "id": "EuvWgQ2xGEFk",
        "colab": {
          "base_uri": "https://localhost:8080/"
        },
        "outputId": "c9b21580-4708-4b52-c77c-167b3a9c0054"
      },
      "outputs": [
        {
          "output_type": "stream",
          "name": "stdout",
          "text": [
            "6\n",
            "90\n",
            "result 0.06666666666666667\n",
            "no exceptions occurred\n",
            "execution completed\n"
          ]
        }
      ],
      "source": [
        "#eception handelling\n",
        "#zero divison error\n",
        "try:\n",
        "  num1 = int(input())\n",
        "  num2 = int(input())\n",
        "  result =num1/num2\n",
        "\n",
        "  print(\"result\",result)\n",
        "\n",
        "except ValueError:\n",
        "  print(\"invalid input. please enter a valid number\")\n",
        "except ZeroDivisionError:\n",
        "  print(\"cannot divide by zero\")\n",
        "\n",
        "else:\n",
        "  print(\"no exceptions occurred\")\n",
        "\n",
        "finally:\n",
        "  print(\"execution completed\")\n",
        "\n",
        "\n"
      ]
    },
    {
      "cell_type": "code",
      "source": [
        "#value error\n",
        "\n",
        "def convert_to_integers(string):\n",
        "  try:\n",
        "    number = int(string)\n",
        "    print(\"Interger value:\", number)\n",
        "  except ValueError:\n",
        "    print(\"Invalid input. Please enter a valid integer.\")\n",
        "\n",
        "def main():\n",
        "  string = input(\"Enter a integer:\")\n",
        "  convert_to_integers(string)\n",
        "\n",
        "if __name__ == \"__main__\":\n",
        "  main()"
      ],
      "metadata": {
        "colab": {
          "base_uri": "https://localhost:8080/"
        },
        "id": "abGmOE7PV7Ww",
        "outputId": "199a4d13-71b0-4fc3-ef9f-29fc7762495f"
      },
      "execution_count": null,
      "outputs": [
        {
          "output_type": "stream",
          "name": "stdout",
          "text": [
            "Enter a integer:\n",
            "Invalid input. Please enter a valid integer.\n"
          ]
        }
      ]
    },
    {
      "cell_type": "code",
      "source": [
        "#raise and alias\n",
        "\n",
        "def get_positive_integer():\n",
        "  while True:\n",
        "    try:\n",
        "      number = int(input(\"enter a positive integer\"))\n",
        "      if number <= 0:\n",
        "        raise ValueError(\"not a positive integer\")\n",
        "      return number\n",
        "    except ValueError as e:\n",
        "      print(\"error\",e)\n",
        "\n",
        "print(\"enter a positive integer\")\n",
        "result = get_positive_integer()\n",
        "print(\"positive integer:\",result)\n"
      ],
      "metadata": {
        "id": "SzXpJp7FXduD",
        "colab": {
          "base_uri": "https://localhost:8080/"
        },
        "outputId": "64526535-987a-4e1f-94c7-dbbacf669d5b"
      },
      "execution_count": 8,
      "outputs": [
        {
          "output_type": "stream",
          "name": "stdout",
          "text": [
            "enter a positive integer\n",
            "enter a positive integerrtrtr\n",
            "error invalid literal for int() with base 10: 'rtrtr'\n",
            "enter a positive integer74e\n",
            "error invalid literal for int() with base 10: '74e'\n",
            "enter a positive integer647\n",
            "positive integer: 647\n"
          ]
        }
      ]
    },
    {
      "cell_type": "code",
      "source": [
        "#custom exception\n",
        "\n",
        "class CustomException(Exception):\n",
        "  def __init__(self,message):\n",
        "    self.message = message\n",
        "\n",
        "try:\n",
        "  raise CustomException(\"this is a custom exception\")\n",
        "except CustomException as e:\n",
        "  print(\"caught custom exception:\",e)\n",
        "      #except Exception as e:\n",
        "      #   print(\"an error occured\")\n",
        ""
      ],
      "metadata": {
        "colab": {
          "base_uri": "https://localhost:8080/"
        },
        "id": "rK-gzXT3AW7m",
        "outputId": "bf857c0a-8034-4c28-924c-8eed537fe57d"
      },
      "execution_count": 16,
      "outputs": [
        {
          "output_type": "stream",
          "name": "stdout",
          "text": [
            "caught custom exception: this is a custom exception\n"
          ]
        }
      ]
    },
    {
      "cell_type": "code",
      "source": [
        "# index error\n",
        "\n",
        "def access_list_elements(lst, index):\n",
        "  try:\n",
        "    value = lst[index]\n",
        "    print(\"element at index {}: {}\".format(index,value))\n",
        "  except IndexError:\n",
        "    print(\"index out of range\")\n",
        "\n",
        "my_list = [10,20,30,40,50]\n",
        "index = int(input(\"enter an index:\"))\n",
        "access_list_elements(my_list,index)"
      ],
      "metadata": {
        "colab": {
          "base_uri": "https://localhost:8080/"
        },
        "id": "ZcabrnYxCDD3",
        "outputId": "eea91ab8-7683-45af-bcb1-75ce1ff8286c"
      },
      "execution_count": 13,
      "outputs": [
        {
          "output_type": "stream",
          "name": "stdout",
          "text": [
            "enter an index:67\n",
            "index out of range\n"
          ]
        }
      ]
    },
    {
      "cell_type": "code",
      "source": [
        "#opening a file\n",
        "\n",
        "try:\n",
        "  file = open(\"non existant file\",\"r\")\n",
        "  content = file.read()\n",
        "  file.close()\n",
        "except FileNotFoundError:\n",
        "  print(\"file not found\")"
      ],
      "metadata": {
        "colab": {
          "base_uri": "https://localhost:8080/"
        },
        "id": "qNj6n2qbC590",
        "outputId": "0c8bff73-ad43-4ac4-f448-7f84518df9b5"
      },
      "execution_count": 14,
      "outputs": [
        {
          "output_type": "stream",
          "name": "stdout",
          "text": [
            "file not found\n"
          ]
        }
      ]
    },
    {
      "cell_type": "code",
      "source": [
        "#\n",
        "\n",
        "def access_dictionary_value(dictionary, key):\n",
        "  try:\n",
        "    value = dictionary[key]\n",
        "    print(\"value for key\",key,\"is:\",value)\n",
        "  except KeyError:\n",
        "    print(\"key not found in dictionary\")\n",
        "\n",
        "my_dict = {\"a\":10,\"b\":20,\"c\":30}\n",
        "key = input(\"enter a key:\")\n",
        "access_dictionary_value(my_dict,key)"
      ],
      "metadata": {
        "colab": {
          "base_uri": "https://localhost:8080/"
        },
        "id": "SxVclHZnD6L9",
        "outputId": "0453ceab-7e35-4edc-8d5c-7c02bd242d73"
      },
      "execution_count": 20,
      "outputs": [
        {
          "output_type": "stream",
          "name": "stdout",
          "text": [
            "enter a key:a\n",
            "value for key a is: 10\n"
          ]
        }
      ]
    },
    {
      "cell_type": "code",
      "source": [],
      "metadata": {
        "id": "J8oGpg8TEnGd"
      },
      "execution_count": null,
      "outputs": []
    }
  ],
  "metadata": {
    "colab": {
      "provenance": [],
      "authorship_tag": "ABX9TyMA5mJjLRjK7mJk+hNJEBej",
      "include_colab_link": true
    },
    "kernelspec": {
      "display_name": "Python 3",
      "name": "python3"
    },
    "language_info": {
      "name": "python"
    }
  },
  "nbformat": 4,
  "nbformat_minor": 0
}