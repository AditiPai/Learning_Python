{
  "nbformat": 4,
  "nbformat_minor": 0,
  "metadata": {
    "colab": {
      "provenance": [],
      "authorship_tag": "ABX9TyO9Ivcfl9EI1+44IE8VzWgm",
      "include_colab_link": true
    },
    "kernelspec": {
      "name": "python3",
      "display_name": "Python 3"
    },
    "language_info": {
      "name": "python"
    }
  },
  "cells": [
    {
      "cell_type": "markdown",
      "metadata": {
        "id": "view-in-github",
        "colab_type": "text"
      },
      "source": [
        "<a href=\"https://colab.research.google.com/github/AditiPai/Learning_Python/blob/main/python_day3.ipynb\" target=\"_parent\"><img src=\"https://colab.research.google.com/assets/colab-badge.svg\" alt=\"Open In Colab\"/></a>"
      ]
    },
    {
      "cell_type": "code",
      "execution_count": null,
      "metadata": {
        "id": "d6g2u-6lOoQ5",
        "colab": {
          "base_uri": "https://localhost:8080/"
        },
        "outputId": "d653b596-6354-4df0-e229-a7cba60fe2bf"
      },
      "outputs": [
        {
          "output_type": "stream",
          "name": "stdout",
          "text": [
            "enter a binary number: 0010\n",
            "8\n",
            "10\n",
            "8\n"
          ]
        }
      ],
      "source": [
        "#Develop A PYTHON programe to convert a binary number into a decimal, octal or hexa decimal numbers using functions\n",
        "\n",
        "num = input(\"enter a binary number: \")\n",
        "\n",
        "def convert(num):\n",
        "  #decimal\n",
        "  a= int(num,2)\n",
        "  print(a)\n",
        "\n",
        "  b= oct(a)[2:]\n",
        "  print(b)\n",
        "\n",
        "  c= hex(a)[2:]\n",
        "  print(c)\n",
        "\n",
        "convert(num)\n"
      ]
    },
    {
      "cell_type": "code",
      "source": [
        "#Define a  function F as Fn =Fn-1 +Fn-2. write a python program which accepts a value for N(for N >0)\n",
        "#as input and pass this value to the function. Display suitable error msg if the condition for input value is not followed\n",
        "\n",
        "\n",
        "\n",
        "\n"
      ],
      "metadata": {
        "id": "GrDrgLvWPaH2"
      },
      "execution_count": null,
      "outputs": []
    },
    {
      "cell_type": "code",
      "source": [
        "#find string similarities between 2 similar strings\n",
        "\n"
      ],
      "metadata": {
        "id": "GVFZYyTQPaK6"
      },
      "execution_count": null,
      "outputs": []
    },
    {
      "cell_type": "code",
      "source": [
        "#write a Python program that accepts a sentence and finds the number of words, digits, uppercase lettrs and lower case letters\n",
        "\n",
        "import string\n",
        "\n",
        "sentence = input(\"enter a sentence: \")\n",
        "word_list = sentence.strip().split(\" \")\n",
        "print(f\"this list has {len(word_list)} words\")\n",
        "\n",
        "digit_count = lower_count= upper_count=0\n",
        "\n",
        "for char in sentence:\n",
        "  if char in string.digits:\n",
        "    digit_count+=1\n",
        "  elif char in string.ascii_uppercase:\n",
        "    upper_count+=1\n",
        "  elif char in string.ascii_lowercase:\n",
        "    lower_count+=1\n",
        "\n",
        "print(f\"digits: {digit_count}, upper case: {upper_count}, lower case: {lower_count}\")"
      ],
      "metadata": {
        "id": "smu4XsBYPaOC",
        "colab": {
          "base_uri": "https://localhost:8080/"
        },
        "outputId": "4149b383-3fc6-4279-c3b7-91064a6724aa"
      },
      "execution_count": null,
      "outputs": [
        {
          "output_type": "stream",
          "name": "stdout",
          "text": [
            "enter a sentence: this is a upper caSE lOWeR case, Aditi likes ice_cream\n",
            "this list has 10 words\n",
            "digits: 0, upper case: 6, lower case: 37\n"
          ]
        }
      ]
    },
    {
      "cell_type": "code",
      "source": [
        "#LISTS\n",
        "\n",
        "l1 = [\"apple\",\"banana\",\"cherry\",\"mango\"]\n",
        "l2 = [10,20,30,40]\n",
        "l3 = [True, False]\n",
        "l4 = list((\"Jack\"))\n",
        "l5 = list((\"Jack\",\"John\"))\n",
        "\n",
        "print(l4)\n",
        "print(l4[::-1])\n",
        "print(l5)\n",
        "print(l1[0])\n",
        "print(l1[0:4])\n",
        "print(l1[:4])\n",
        "print(l1[0:])\n",
        "print(l1[:])\n",
        "print(l1[::-1])\n",
        "#starting index should be less than or equal to the ending index\n",
        "#output is ordered\n",
        "print(l1[-4:-1])\n",
        "print(l1[-1:-4])\n",
        "x= len(l1)\n",
        "print(x)\n",
        "\n",
        "print(type(l1))#class and objects\n",
        "print(type(l1[0]))\n",
        "\n",
        "if \"apple\" in l1:\n",
        "  print(\"exists\")\n",
        "\n",
        "l1[1] =\"kiwi\"\n",
        "print(l1)\n",
        "l1[1:3]=\"pineapple\",\"dates\",\"x\"\n",
        "print(l1)"
      ],
      "metadata": {
        "colab": {
          "base_uri": "https://localhost:8080/"
        },
        "id": "sFauFyEdPaQY",
        "outputId": "715f51fd-5fe8-4f7b-a04c-caf40ecebb69"
      },
      "execution_count": null,
      "outputs": [
        {
          "output_type": "stream",
          "name": "stdout",
          "text": [
            "['J', 'a', 'c', 'k']\n",
            "['k', 'c', 'a', 'J']\n",
            "['Jack', 'John']\n",
            "apple\n",
            "['apple', 'banana', 'cherry', 'mango']\n",
            "['apple', 'banana', 'cherry', 'mango']\n",
            "['apple', 'banana', 'cherry', 'mango']\n",
            "['apple', 'banana', 'cherry', 'mango']\n",
            "['mango', 'cherry', 'banana', 'apple']\n",
            "['apple', 'banana', 'cherry']\n",
            "[]\n",
            "4\n",
            "<class 'list'>\n",
            "<class 'str'>\n",
            "exists\n",
            "['apple', 'kiwi', 'cherry', 'mango']\n",
            "['apple', 'pineapple', 'dates', 'x', 'mango']\n"
          ]
        }
      ]
    },
    {
      "cell_type": "code",
      "source": [
        "lis = [\"apple\",\"banana\",\"cherry\"]\n",
        "lis[1:2] = [\"kiwi\",\"mango\",\"chikku\"]\n",
        "print(lis)"
      ],
      "metadata": {
        "colab": {
          "base_uri": "https://localhost:8080/"
        },
        "id": "7oZytDrHPaXL",
        "outputId": "9b16552a-10d5-4a52-f715-36cdd7450e5d"
      },
      "execution_count": null,
      "outputs": [
        {
          "output_type": "stream",
          "name": "stdout",
          "text": [
            "['apple', 'kiwi', 'mango', 'chikku', 'cherry']\n"
          ]
        }
      ]
    },
    {
      "cell_type": "code",
      "source": [
        "lis  = [\"apple\",\"banana\",\"cherry\",\"kiwi\",\"mango\",\"chikku\"]\n",
        "lis[1:3] = [\"watermelon\"]\n",
        "print(lis)"
      ],
      "metadata": {
        "colab": {
          "base_uri": "https://localhost:8080/"
        },
        "id": "adouXFmfT59U",
        "outputId": "2c79e914-adff-4e05-be57-fc164291e3f0"
      },
      "execution_count": null,
      "outputs": [
        {
          "output_type": "stream",
          "name": "stdout",
          "text": [
            "['apple', 'watermelon', 'kiwi', 'mango', 'chikku']\n"
          ]
        }
      ]
    },
    {
      "cell_type": "code",
      "source": [
        "list = [\"apple\",\"banana\",\"cherry\"]\n",
        "list.insert(2,\"watermelon\")\n",
        "print(list)"
      ],
      "metadata": {
        "colab": {
          "base_uri": "https://localhost:8080/"
        },
        "id": "iXmflt5OkFQx",
        "outputId": "37ef4450-1a6e-4370-8d9f-f3765b071df7"
      },
      "execution_count": null,
      "outputs": [
        {
          "output_type": "stream",
          "name": "stdout",
          "text": [
            "['apple', 'banana', 'watermelon', 'cherry']\n"
          ]
        }
      ]
    },
    {
      "cell_type": "code",
      "source": [
        "list = [\"apple\",\"banana\",\"cherry\"]\n",
        "list.append(\"watermelon\")\n",
        "print(list)"
      ],
      "metadata": {
        "colab": {
          "base_uri": "https://localhost:8080/"
        },
        "id": "THGQ5sgLkas0",
        "outputId": "84ed7286-9f4a-4d37-8d91-45f68786d8ca"
      },
      "execution_count": null,
      "outputs": [
        {
          "output_type": "stream",
          "name": "stdout",
          "text": [
            "['apple', 'banana', 'cherry', 'watermelon']\n"
          ]
        }
      ]
    },
    {
      "cell_type": "code",
      "source": [
        "l1 = [\"apple\",\"banana\",\"cherry\"]\n",
        "l2 = [\"Jack\",\"John\"]\n",
        "l1.extend(l2)\n",
        "print(l1)\n",
        "print(l2)"
      ],
      "metadata": {
        "colab": {
          "base_uri": "https://localhost:8080/"
        },
        "id": "yYCvA5gPsB88",
        "outputId": "d24fdb21-0d1c-4020-afe1-da396fdd1c41"
      },
      "execution_count": null,
      "outputs": [
        {
          "output_type": "stream",
          "name": "stdout",
          "text": [
            "['apple', 'banana', 'cherry', 'Jack', 'John']\n",
            "['Jack', 'John']\n"
          ]
        }
      ]
    },
    {
      "cell_type": "code",
      "source": [
        "l1 = [\"apple\",\"banana\",\"cherry\"]\n",
        "l1.remove(\"apple\")\n",
        "print(l1)\n",
        "l1.pop(1)\n",
        "print(l1)\n",
        "l1.clear()\n",
        "print(l1)\n",
        "del l1\n",
        "print(l1)"
      ],
      "metadata": {
        "colab": {
          "base_uri": "https://localhost:8080/",
          "height": 224
        },
        "id": "s-grO4TzsbEi",
        "outputId": "1bec604c-952c-4ff7-ad52-ba03021db28f"
      },
      "execution_count": null,
      "outputs": [
        {
          "output_type": "stream",
          "name": "stdout",
          "text": [
            "['banana', 'cherry']\n",
            "['banana']\n",
            "[]\n"
          ]
        },
        {
          "output_type": "error",
          "ename": "NameError",
          "evalue": "name 'l1' is not defined",
          "traceback": [
            "\u001b[0;31m---------------------------------------------------------------------------\u001b[0m",
            "\u001b[0;31mNameError\u001b[0m                                 Traceback (most recent call last)",
            "\u001b[0;32m<ipython-input-29-997ebe45f5be>\u001b[0m in \u001b[0;36m<cell line: 9>\u001b[0;34m()\u001b[0m\n\u001b[1;32m      7\u001b[0m \u001b[0mprint\u001b[0m\u001b[0;34m(\u001b[0m\u001b[0ml1\u001b[0m\u001b[0;34m)\u001b[0m\u001b[0;34m\u001b[0m\u001b[0;34m\u001b[0m\u001b[0m\n\u001b[1;32m      8\u001b[0m \u001b[0;32mdel\u001b[0m \u001b[0ml1\u001b[0m\u001b[0;34m\u001b[0m\u001b[0;34m\u001b[0m\u001b[0m\n\u001b[0;32m----> 9\u001b[0;31m \u001b[0mprint\u001b[0m\u001b[0;34m(\u001b[0m\u001b[0ml1\u001b[0m\u001b[0;34m)\u001b[0m\u001b[0;34m\u001b[0m\u001b[0;34m\u001b[0m\u001b[0m\n\u001b[0m",
            "\u001b[0;31mNameError\u001b[0m: name 'l1' is not defined"
          ]
        }
      ]
    },
    {
      "cell_type": "code",
      "source": [
        "#for loop\n",
        "#without indexing\n",
        "thislist = [\"apple\",\"banana\",\"cherry\"]\n",
        "for x in thislist :\n",
        "  print(x)"
      ],
      "metadata": {
        "colab": {
          "base_uri": "https://localhost:8080/"
        },
        "id": "s31bfv1YsnQo",
        "outputId": "47881b0b-b27b-42b2-efab-94b25944551a"
      },
      "execution_count": null,
      "outputs": [
        {
          "output_type": "stream",
          "name": "stdout",
          "text": [
            "apple\n",
            "banana\n",
            "cherry\n"
          ]
        }
      ]
    },
    {
      "cell_type": "code",
      "source": [
        "#FOR LOOP WITH INDEXING\n",
        "\n",
        "thislist = [\"apple\",\"banana\",\"cherry\"]\n",
        "for i in range(len(thislist)) :\n",
        "  print(thislist[i])"
      ],
      "metadata": {
        "colab": {
          "base_uri": "https://localhost:8080/"
        },
        "id": "3FW-pVG5uknM",
        "outputId": "1ddc2b3b-81f1-4c16-e6bc-4ff362e37230"
      },
      "execution_count": null,
      "outputs": [
        {
          "output_type": "stream",
          "name": "stdout",
          "text": [
            "apple\n",
            "banana\n",
            "cherry\n"
          ]
        }
      ]
    },
    {
      "cell_type": "code",
      "source": [
        "i=0\n",
        "thislist = [\"apple\",\"banana\",\"cherry\"]\n",
        "while(i<3):\n",
        "  print(thislist[i])\n",
        "  i+=1"
      ],
      "metadata": {
        "colab": {
          "base_uri": "https://localhost:8080/"
        },
        "id": "G5knTLsQu0t8",
        "outputId": "b497afa9-38ab-415e-fcae-0155606ca0d2"
      },
      "execution_count": null,
      "outputs": [
        {
          "output_type": "stream",
          "name": "stdout",
          "text": [
            "apple\n",
            "banana\n",
            "cherry\n"
          ]
        }
      ]
    },
    {
      "cell_type": "code",
      "source": [
        "#list comphrehension\n",
        "\n",
        "#newlist = [expression for item in iterable ]\n",
        "\n",
        "l1 = [\"apple\",\"banana\",\"cherry\"]\n",
        "l2=[]\n",
        "\n",
        "for x in l1:\n",
        "  if \"a\" in x:\n",
        "    l2.append(x)\n",
        "\n",
        "print(l2)\n"
      ],
      "metadata": {
        "colab": {
          "base_uri": "https://localhost:8080/"
        },
        "id": "F6-238Qiu-8B",
        "outputId": "1788ad75-c522-450a-8a4a-f2767cb1e73c"
      },
      "execution_count": null,
      "outputs": [
        {
          "output_type": "stream",
          "name": "stdout",
          "text": [
            "['apple', 'banana']\n"
          ]
        }
      ]
    },
    {
      "cell_type": "code",
      "source": [
        "fruits = [\"apple\",\"banana\",\"cherry\"]\n",
        "newlist = [x for x in fruits if \"a\" in x]\n",
        "print(newlist)"
      ],
      "metadata": {
        "colab": {
          "base_uri": "https://localhost:8080/"
        },
        "id": "9IqnjoSJxg3N",
        "outputId": "4b98bc8e-085d-487a-af53-84df53fadd42"
      },
      "execution_count": null,
      "outputs": [
        {
          "output_type": "stream",
          "name": "stdout",
          "text": [
            "['apple', 'banana']\n"
          ]
        }
      ]
    },
    {
      "cell_type": "code",
      "source": [
        "#sort alphabetically for reverse increase a parameter (reverse= True)\n",
        "fruits = [\"apple\",\"banana\",\"cherry\",\"kiwi\",\"mango\",\"chikku\"]\n",
        "fruits.sort(reverse=True)\n",
        "print(fruits)\n",
        "fruits.sort()\n",
        "print(fruits)"
      ],
      "metadata": {
        "colab": {
          "base_uri": "https://localhost:8080/"
        },
        "id": "0Xvev2XEygJx",
        "outputId": "68786f0c-60c8-4a10-978f-0229c6d84b1a"
      },
      "execution_count": null,
      "outputs": [
        {
          "output_type": "stream",
          "name": "stdout",
          "text": [
            "['mango', 'kiwi', 'chikku', 'cherry', 'banana', 'apple']\n",
            "['apple', 'banana', 'cherry', 'chikku', 'kiwi', 'mango']\n"
          ]
        }
      ]
    },
    {
      "cell_type": "code",
      "source": [
        "# sort the marks list according to how close it is to a given mark say 50\n",
        "#customized sort\n",
        "\n",
        "#sorted based on how close a number is to 50\n",
        "def fun(n):\n",
        "  return abs(n-50)\n",
        "\n",
        "marks = [100, 50, 65, 82, 23]\n",
        "marks.sort(key = fun)#just passing the function name not calling\n",
        "print(marks)\n",
        "\n",
        "#[100-50, 50-50, 65-50, 82-50, 23-50]sort diffrences in ascending order\n",
        "#[50,65,23,82,100]"
      ],
      "metadata": {
        "colab": {
          "base_uri": "https://localhost:8080/"
        },
        "id": "lTc4WMely7Kq",
        "outputId": "4afd2ffa-ede5-4f90-b497-5bc3b4f811ce"
      },
      "execution_count": null,
      "outputs": [
        {
          "output_type": "stream",
          "name": "stdout",
          "text": [
            "[50, 65, 23, 82, 100]\n"
          ]
        }
      ]
    },
    {
      "cell_type": "code",
      "source": [
        "thislist = [\"banana\", \"Orange\", \"Kiwi\", \"cherry\"]\n",
        "thislist.sort(key = str.lower)\n",
        "print(thislist)\n",
        "#insensitive for the case of letters\n",
        "#while pasing the key= fun just pass the name : dont call the function"
      ],
      "metadata": {
        "colab": {
          "base_uri": "https://localhost:8080/"
        },
        "id": "q9qGxPQd1pfe",
        "outputId": "f37fa8e8-717c-4a94-f187-3cff1a39cda4"
      },
      "execution_count": null,
      "outputs": [
        {
          "output_type": "stream",
          "name": "stdout",
          "text": [
            "['banana', 'cherry', 'Kiwi', 'Orange']\n"
          ]
        }
      ]
    },
    {
      "cell_type": "code",
      "source": [
        "thislist = [\"banana\", \"Orange\", \"Kiwi\", \"cherry\"]\n",
        "thislist.sort()\n",
        "print(thislist)\n",
        "#sensitive sort for uppercase letters"
      ],
      "metadata": {
        "colab": {
          "base_uri": "https://localhost:8080/"
        },
        "id": "TAXd3vlF1pjR",
        "outputId": "5f802bba-c6e7-444e-b821-e51ee9dd2f53"
      },
      "execution_count": null,
      "outputs": [
        {
          "output_type": "stream",
          "name": "stdout",
          "text": [
            "['Kiwi', 'Orange', 'banana', 'cherry']\n"
          ]
        }
      ]
    },
    {
      "cell_type": "code",
      "source": [
        "#write a program to swap first and last numbers of the list\n",
        "\n",
        "def swap(l1):\n",
        "\n",
        "  temp = l1[0]\n",
        "  l1[0] = l1[-1]\n",
        "  l1[-1] = temp\n",
        "\n",
        "  return l1\n",
        "\n",
        "l1=[30,40, 20, 100]\n",
        "l2= swap(l1)\n",
        "print(l2)"
      ],
      "metadata": {
        "colab": {
          "base_uri": "https://localhost:8080/"
        },
        "id": "ynJKY7VG1tUH",
        "outputId": "890b420d-a0a8-4bdf-a8b6-ffd0b11f8be6"
      },
      "execution_count": null,
      "outputs": [
        {
          "output_type": "stream",
          "name": "stdout",
          "text": [
            "[100, 40, 20, 30]\n"
          ]
        }
      ]
    },
    {
      "cell_type": "code",
      "source": [
        "#take an list as a input\n",
        "n= int(input())\n",
        "l1 = []\n",
        "for i in range(0,n):\n",
        "  x = int(input())\n",
        "  l1.append(x)\n",
        "\n",
        "print(l1)"
      ],
      "metadata": {
        "id": "PGzPgGrN5cRq"
      },
      "execution_count": null,
      "outputs": []
    },
    {
      "cell_type": "code",
      "source": [
        "#swap the elemets at given position note: positions start from 1 indexes start from 0\n",
        "\n",
        "def swapPositions(l1, pos1, pos3):\n",
        "  temp = l1[pos1-1]\n",
        "  l1[pos1-1] = l1[pos3-1]\n",
        "  l1[pos3-1] = temp\n",
        "\n",
        "  return l1\n",
        "\n",
        "l1=[30,40, 20, 100]\n",
        "pos1,pos2 =1,3\n",
        "l2= swapPositions(l1,pos1,pos2)\n",
        "print(l2)\n"
      ],
      "metadata": {
        "colab": {
          "base_uri": "https://localhost:8080/"
        },
        "id": "iRDMzeJk6-6f",
        "outputId": "42d0627c-4956-429a-86c8-cfc1533e06a1"
      },
      "execution_count": null,
      "outputs": [
        {
          "output_type": "stream",
          "name": "stdout",
          "text": [
            "[20, 40, 30, 100]\n"
          ]
        }
      ]
    },
    {
      "cell_type": "code",
      "source": [
        "#declare a list, sum of all elements and average\n",
        "\n",
        "n= int(input())\n",
        "l1 = []\n",
        "for i in range(0,n):\n",
        "  x = int(input())\n",
        "  l1.append(x)\n",
        "\n",
        "print(l1)\n",
        "\n",
        "sum=0\n",
        "for j in l1:\n",
        "  sum = sum + j\n",
        "\n",
        "print(\"sum:\",sum)\n",
        "print(\"average:\", sum/n)\n",
        "\n"
      ],
      "metadata": {
        "colab": {
          "base_uri": "https://localhost:8080/"
        },
        "id": "2ZsPi19Q6-9R",
        "outputId": "10c848f6-2920-4591-f37a-e4be9acbcf70"
      },
      "execution_count": null,
      "outputs": [
        {
          "output_type": "stream",
          "name": "stdout",
          "text": [
            "5\n",
            "5\n",
            "10\n",
            "15\n",
            "20\n",
            "25\n",
            "[5, 10, 15, 20, 25]\n",
            "sum: 75\n",
            "average: 15.0\n"
          ]
        }
      ]
    },
    {
      "cell_type": "code",
      "source": [
        "#try to find first and last element in the list\n",
        "l1=[5, 10, 15, 20, 25]\n",
        "print(l1[0])\n",
        "print(l1[-1])\n",
        "\n"
      ],
      "metadata": {
        "colab": {
          "base_uri": "https://localhost:8080/"
        },
        "id": "K7gieGVH6_AK",
        "outputId": "dfaa9992-6fa0-4ddb-990d-7ef34806461f"
      },
      "execution_count": null,
      "outputs": [
        {
          "output_type": "stream",
          "name": "stdout",
          "text": [
            "5\n",
            "25\n"
          ]
        }
      ]
    },
    {
      "cell_type": "code",
      "source": [
        "#minimun and maximun no in a array\n",
        "li=[2,4,67,2,65,21,100,3,4,5]\n",
        "li.sort()\n",
        "print(li)\n",
        "print(li[0])\n",
        "print(li[-1])"
      ],
      "metadata": {
        "colab": {
          "base_uri": "https://localhost:8080/"
        },
        "id": "W0k-NMVy6_Cy",
        "outputId": "88a874ff-a20c-4517-ad9d-117fda697c8c"
      },
      "execution_count": null,
      "outputs": [
        {
          "output_type": "stream",
          "name": "stdout",
          "text": [
            "[2, 2, 3, 4, 4, 5, 21, 65, 67, 100]\n",
            "2\n",
            "100\n"
          ]
        }
      ]
    },
    {
      "cell_type": "code",
      "source": [
        "#count the number of ocurances of an item in the list using function and without\n",
        "\n",
        "def count(lis,key):\n",
        "  count = 0\n",
        "  for i in lis:\n",
        "    if i == key:\n",
        "      count = count+1\n",
        "\n",
        "  return count\n",
        "\n",
        "lis = [1,3,5,62,33,54,54,54,21,33,3,90,65,54]\n",
        "key = int(input())\n",
        "if key in lis :\n",
        "  x = count(lis,key)\n",
        "  print(x)\n",
        "\n",
        "else:\n",
        "  print(\"INVALID KEY!!!\")\n",
        "\n",
        "\n"
      ],
      "metadata": {
        "colab": {
          "base_uri": "https://localhost:8080/"
        },
        "id": "FctSsICn-0kv",
        "outputId": "91eed2a5-0169-4062-8c31-ddf2f74f040d"
      },
      "execution_count": null,
      "outputs": [
        {
          "output_type": "stream",
          "name": "stdout",
          "text": [
            "54\n",
            "4\n"
          ]
        }
      ]
    },
    {
      "cell_type": "code",
      "source": [
        "#wap to count the unique values in a list\n",
        "\n",
        "#lis = [1,3,5,62,33,54,54,54,21,33,3,90,65,54]\n",
        "#x= set(lis)\n",
        "#print(len(x))\n",
        "\n",
        "\n",
        "#OR\n",
        "\n",
        "def unique(lis):\n",
        "  lis2=[]\n",
        "  for x in lis:\n",
        "    if x not in lis2:\n",
        "      lis2.append(x)\n",
        "\n",
        "  return lis2\n",
        "\n",
        "\n",
        "\n",
        "lis = [1,3,5,62,33,54,54,54,21,33,3,90,65,54]\n",
        "y = unique(lis)\n",
        "print(len(y))\n"
      ],
      "metadata": {
        "colab": {
          "base_uri": "https://localhost:8080/"
        },
        "id": "Em0ZeBOsQ-5X",
        "outputId": "e9bc3a8b-061d-4253-b524-ea7015913c86"
      },
      "execution_count": null,
      "outputs": [
        {
          "output_type": "stream",
          "name": "stdout",
          "text": [
            "9\n"
          ]
        }
      ]
    },
    {
      "cell_type": "code",
      "source": [
        "#find out the duplicate removal list product using list comprehension\n",
        "\n",
        "def pd(un):#use diffent variable not the actual one\n",
        "  product = 1\n",
        "  for i in un:\n",
        "    product *= i\n",
        "  return product\n",
        "\n",
        "li = [1,3,4,5,1,3,4]\n",
        "res =[]\n",
        "[res.append(x) for x in li if x not in res]\n",
        "print(res)\n",
        "print(pd(res))\n"
      ],
      "metadata": {
        "colab": {
          "base_uri": "https://localhost:8080/"
        },
        "id": "aKbL15HXQ-8K",
        "outputId": "00ac6e53-c1a3-4156-c591-97fa08c4334a"
      },
      "execution_count": null,
      "outputs": [
        {
          "output_type": "stream",
          "name": "stdout",
          "text": [
            "[1, 3, 4, 5]\n",
            "60\n"
          ]
        }
      ]
    },
    {
      "cell_type": "code",
      "source": [
        "#write a program to extract elements with a frequency grater than k\n",
        "\n",
        "li = [1,3,4,5,1,3,4,5,7,8,6,3,6,7,8,9,10]\n",
        "K = 2\n",
        "newlist = []\n",
        "for i in li:\n",
        "  freq = li.count(i)\n",
        "  if(freq>K) and i not in newlist:\n",
        "    newlist.append(i)\n",
        "\n",
        "print(newlist)\n"
      ],
      "metadata": {
        "colab": {
          "base_uri": "https://localhost:8080/"
        },
        "id": "erg_9ADsQ--P",
        "outputId": "e4e07378-fd00-495f-f67d-4ef9b9ab7afd"
      },
      "execution_count": null,
      "outputs": [
        {
          "output_type": "stream",
          "name": "stdout",
          "text": [
            "[3]\n"
          ]
        }
      ]
    },
    {
      "cell_type": "code",
      "source": [
        "# write a program to text if a list containts the elements in a range\n",
        "\n",
        "li = [1,3,4,5,1,3,4,5,7,8,6,3,6,7,8,9,10]\n",
        "\n",
        "l,h = 3,40\n",
        "res= True\n",
        "for ele in li:\n",
        "  if ele <l or ele >h:\n",
        "    res = False\n",
        "    break\n",
        "print(\"contains all elements in the range: \", res)\n",
        "#anyone element in the range\n",
        "new=[]\n",
        "for i in li:\n",
        "  if i>l and i<h:\n",
        "    new.append(i)\n",
        "\n",
        "if len(new)==0:\n",
        "  print(\"False\")\n",
        "\n",
        "else:\n",
        "  print(\"True\")"
      ],
      "metadata": {
        "colab": {
          "base_uri": "https://localhost:8080/"
        },
        "id": "O2DfAfyAQ_Bu",
        "outputId": "e2d87f62-cf2c-46a8-b362-7b52007e3f9c"
      },
      "execution_count": null,
      "outputs": [
        {
          "output_type": "stream",
          "name": "stdout",
          "text": [
            "contains all elements in the range:  False\n",
            "True\n"
          ]
        }
      ]
    },
    {
      "cell_type": "code",
      "source": [
        "#write a program to demonstrate list intersection and union\n",
        "\n",
        "l1 = [1,2,3,6,9,10]\n",
        "l2 = [1,4,3,7,8,20]\n",
        "\n",
        "l3 = set(l1) & set(l2)\n",
        "print(list(l3))\n",
        "\n",
        "l4 = set(l1)|set(l2)\n",
        "print(list(l4))"
      ],
      "metadata": {
        "colab": {
          "base_uri": "https://localhost:8080/"
        },
        "id": "GftGhKfTR1j9",
        "outputId": "fe90ed09-31e5-477d-f461-9393922feb1c"
      },
      "execution_count": null,
      "outputs": [
        {
          "output_type": "stream",
          "name": "stdout",
          "text": [
            "[1, 3]\n",
            "[1, 2, 3, 4, 6, 7, 8, 9, 10, 20]\n"
          ]
        }
      ]
    },
    {
      "cell_type": "code",
      "source": [
        "#wap to merge 2 sorted list into a single sorted list\n",
        "\n",
        "\n",
        "#l3 = l2 + l1\n",
        "#l3=list(l3)\n",
        "#l3.sort()#dont assign it to a variable you wont get output\n",
        "#print(l3)\n",
        "\n",
        "\n",
        "#or\n",
        "\n",
        "\n",
        "\n",
        "def merge(l1,l2):\n",
        "  m=[]\n",
        "  i,j =0,0\n",
        "  while (i<len(l1)) and (j<len(l2)):\n",
        "    if l1[i]<l2[j]:\n",
        "      m.append(l1[i])\n",
        "      i+=1\n",
        "    else:\n",
        "      m.append(l2[j])\n",
        "      j+=1\n",
        "  m.extend(l1[i:])\n",
        "  m.extend(l2[j:])\n",
        "  return m\n",
        "\n",
        "l1 = [1,2,3,6,9,10]\n",
        "l2 = [3,4,5,7,8,20]\n",
        "\n",
        "print(merge(l1,l2))"
      ],
      "metadata": {
        "colab": {
          "base_uri": "https://localhost:8080/"
        },
        "id": "KehjW2LxR1xv",
        "outputId": "0ec57e9f-ab4f-4b64-e5bf-80f68b430d8f"
      },
      "execution_count": null,
      "outputs": [
        {
          "output_type": "stream",
          "name": "stdout",
          "text": [
            "[1, 2, 3, 3, 4, 5, 6, 7, 8, 9, 10, 20]\n"
          ]
        }
      ]
    },
    {
      "cell_type": "code",
      "source": [
        "#find the largest sub array sum of a given list.     #IMPORTANT\n",
        "\n",
        "def largest_sub_array(lst):\n",
        "  max_sum = current_sum = lst[0]\n",
        "\n",
        "  for num in lst[1:]:\n",
        "    current_sum = max(num,current_sum+num)\n",
        "    max_sum = max(max_sum,current_sum)\n",
        "\n",
        "  return max_sum\n",
        "\n",
        "mylist = [-2,1,-3,4,-1,2,1,-5,4]\n",
        "print(\"largest subarray sum:\",largest_sub_array(mylist))"
      ],
      "metadata": {
        "id": "wBoBpIJGR139",
        "colab": {
          "base_uri": "https://localhost:8080/"
        },
        "outputId": "444d4573-4df8-4e87-f783-1c5a733d5e7e"
      },
      "execution_count": null,
      "outputs": [
        {
          "output_type": "stream",
          "name": "stdout",
          "text": [
            "largest subarray sum: 6\n"
          ]
        }
      ]
    },
    {
      "cell_type": "code",
      "source": [
        "# write a program to partition a list round a given value such that all elements\n",
        "# less than the given value come before it and all the elements greater than the\n",
        "# given value come after it %%\n",
        "\n",
        "#you can do this without list comprehension by iterating the lst by for loop in\n",
        "# range and write 3 if statements then concate it\n",
        "\n",
        "def partition(lis,pivot):\n",
        "  less = [x for x in lis if x < pivot ]\n",
        "  equal= [x for x in lis if x == pivot]\n",
        "  more = [x for x in lis if x > pivot]\n",
        "  return less + equal + more\n",
        "\n",
        "\n",
        "my_list = [1,6,5,9,3,4,2,4,6,9,58]\n",
        "p_value = 4\n",
        "\n",
        "print('partitioned list: ', partition(my_list, p_value))\n",
        "\n",
        "\n"
      ],
      "metadata": {
        "id": "99zpQ1y-SGRo",
        "colab": {
          "base_uri": "https://localhost:8080/"
        },
        "outputId": "f4365be2-e4ba-42ed-8535-73867e31a5c8"
      },
      "execution_count": null,
      "outputs": [
        {
          "output_type": "stream",
          "name": "stdout",
          "text": [
            "partitioned list:  [1, 3, 2, 4, 4, 6, 5, 9, 6, 9, 58]\n"
          ]
        }
      ]
    },
    {
      "cell_type": "code",
      "source": [
        "# find the peak element in the list of integers. Peak element is an element that\n",
        "# is greater than or equal to its neighbours %%\n",
        "#sorted array\n",
        "#use search algorithm binary or linear\n",
        "\n",
        "def peak(lst):\n",
        "  if not lst:\n",
        "    return None\n",
        "  l = 0\n",
        "  r = len(lst)-1      # indexes not the numbers of the list\n",
        "\n",
        "  while(l<r):\n",
        "    mid = l + (r-l)//2        #we do this so that the range doesnot overflow the stack doesnt matter\n",
        "    if lst[mid]<lst[mid+1]:     #with small lists but with large lists whivh has 1000 elements it does\n",
        "\n",
        "      l = mid +1\n",
        "    else:\n",
        "      right = mid\n",
        "\n",
        "  return l\n",
        "\n",
        "num = [1,2,1,3,5,6,4,10]\n",
        "num.sort()\n",
        "print(\"peak element index: \", peak(num))\n",
        "\n",
        "#THIS PRINTS THE INDEX IF YOU NEED ELEMENT CHANGE THE RETURN\n"
      ],
      "metadata": {
        "id": "LZKPWiTDSGUS",
        "colab": {
          "base_uri": "https://localhost:8080/"
        },
        "outputId": "c8d04a73-c723-40c0-ceec-7ef26b97656c"
      },
      "execution_count": null,
      "outputs": [
        {
          "output_type": "stream",
          "name": "stdout",
          "text": [
            "peak element index:  7\n"
          ]
        }
      ]
    }
  ]
}