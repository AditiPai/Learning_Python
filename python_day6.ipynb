{
  "nbformat": 4,
  "nbformat_minor": 0,
  "metadata": {
    "colab": {
      "provenance": [],
      "authorship_tag": "ABX9TyM9BcMD2cL46uFHmuxxdnab",
      "include_colab_link": true
    },
    "kernelspec": {
      "name": "python3",
      "display_name": "Python 3"
    },
    "language_info": {
      "name": "python"
    }
  },
  "cells": [
    {
      "cell_type": "markdown",
      "metadata": {
        "id": "view-in-github",
        "colab_type": "text"
      },
      "source": [
        "<a href=\"https://colab.research.google.com/github/AditiPai/Learning_Python/blob/main/python_day6.ipynb\" target=\"_parent\"><img src=\"https://colab.research.google.com/assets/colab-badge.svg\" alt=\"Open In Colab\"/></a>"
      ]
    },
    {
      "cell_type": "code",
      "execution_count": null,
      "metadata": {
        "colab": {
          "base_uri": "https://localhost:8080/"
        },
        "id": "pGM9nX0dsm_R",
        "outputId": "1b4b8707-b954-46d1-ede7-f46852ac63fa"
      },
      "outputs": [
        {
          "output_type": "stream",
          "name": "stdout",
          "text": [
            "128\n"
          ]
        }
      ],
      "source": [
        "#recursive fun better solution less time complexity O(log p) refer notes RECURSIVE TREE APPROACH\n",
        "#works for odd numbers but if it doesnt write put a if statement (p%2)!=0 then\n",
        "def power(n,p):\n",
        "  if p ==1:\n",
        "    return 1\n",
        "  s = pow(n,p/2)\n",
        "  return s*s\n",
        "\n",
        "n=2\n",
        "p=7\n",
        "\n",
        "s=pow(n,p)\n",
        "print(s)"
      ]
    },
    {
      "cell_type": "code",
      "source": [
        "#TWO SUM\n",
        "#leetcode\n",
        "#given an array of n numbers an another number x the task is to check wheather or not there exist two numbers in the array\n",
        "#it cant be the same number\n",
        "#time complexity O(n^2) #worst possible case\n",
        "\n",
        "n = int(input())\n",
        "l1 = []\n",
        "for i in range(0,n):\n",
        "  x = int(input())\n",
        "  l1.append(x)\n",
        "\n",
        "print(l1)\n",
        "x = int(input())\n",
        "\n",
        "def twosum(l1,x):\n",
        "\n",
        "  for i in range(0,n):\n",
        "    for j in range(0,n):\n",
        "      if i!=j and l1[i] + l1[j] == x:\n",
        "        return True\n",
        "  return False\n",
        "\n",
        "if (twosum(l1,x)):\n",
        "  print(\"true\")\n",
        "else:\n",
        "  print(\"false\")"
      ],
      "metadata": {
        "colab": {
          "base_uri": "https://localhost:8080/"
        },
        "id": "V51NnTz__pTh",
        "outputId": "db3ad6b5-657d-44c9-9d08-3644e2cc92a8"
      },
      "execution_count": null,
      "outputs": [
        {
          "output_type": "stream",
          "name": "stdout",
          "text": [
            "4\n",
            "2\n",
            "3\n",
            "5\n",
            "-2\n",
            "[2, 3, 5, -2]\n",
            "4\n",
            "false\n"
          ]
        }
      ]
    },
    {
      "cell_type": "code",
      "source": [
        "#2 pointer approach works on sorted array : 2 pointers, one at 0th index, another at n-1\n",
        "\n",
        "n=5\n",
        "a=[-2,0,1,1,5]                #sorted array or a.sort()\n",
        "x= 10\n",
        "\n",
        "def twopointer(a,x,n):\n",
        "  r = n-1\n",
        "  l = 0                       #l and r are ponters\n",
        "  while l<r:                  #while cause we need the pointers not to crossover and we dont know the range\n",
        "    if a[l]+a[r] == x:\n",
        "      return True\n",
        "    elif a[l]+ a[r]> x:\n",
        "      r = r-1\n",
        "    elif a[l]+ a[r]< x:\n",
        "      l = l+1\n",
        "  return False\n",
        "\n",
        "twopointer(a,x,n)"
      ],
      "metadata": {
        "id": "4TPfBezo_pVz",
        "colab": {
          "base_uri": "https://localhost:8080/"
        },
        "outputId": "f01a4b5e-75ee-4d5b-d927-71709ddeac0d"
      },
      "execution_count": null,
      "outputs": [
        {
          "output_type": "execute_result",
          "data": {
            "text/plain": [
              "False"
            ]
          },
          "metadata": {},
          "execution_count": 52
        }
      ]
    },
    {
      "cell_type": "code",
      "source": [
        "#time complexity\n",
        "#O(1)\n",
        "\n",
        "def access_element(arr, index):\n",
        "  return arr[index]\n",
        "\n",
        "arr=[10,20,30,40,50,60]\n",
        "index=2\n",
        "\n",
        "result = access_element(arr,index)\n",
        "print(f\"element at index {index} is {result}\")"
      ],
      "metadata": {
        "id": "7ja29815HoF8",
        "colab": {
          "base_uri": "https://localhost:8080/"
        },
        "outputId": "62cadf4c-4069-456d-8339-1e2f24b98917"
      },
      "execution_count": null,
      "outputs": [
        {
          "output_type": "stream",
          "name": "stdout",
          "text": [
            "element at index 2 is 30\n"
          ]
        }
      ]
    },
    {
      "cell_type": "code",
      "source": [
        "# O(log n) worst case .......best case 0(1) we consider worst case\n",
        "#binary search\n",
        "def binary_search(arr,key):\n",
        "  l = 0\n",
        "  h = len(arr)-1\n",
        "  while l<h:\n",
        "    mid = (l+(h-l)) /2\n",
        "    if arr[mid] == key:\n",
        "      return True\n",
        "\n",
        "    elif arr[mid] < key:\n",
        "      l = mid + 1\n",
        "\n",
        "    elif arr[mid] > key:\n",
        "      h = mid - 1\n",
        "\n",
        "  return False\n",
        "\n",
        "arr=[10,20, 30 , 35,40, 45,60,70]#sorted array\n",
        "key = 0\n",
        "if binary_search==True:\n",
        "  print(\"found\")\n",
        "else:\n",
        "  print(\"not found\")\n"
      ],
      "metadata": {
        "id": "N8EQCEumHoLs",
        "colab": {
          "base_uri": "https://localhost:8080/"
        },
        "outputId": "b1a40cc2-c771-417e-c565-a7c165d84593"
      },
      "execution_count": null,
      "outputs": [
        {
          "output_type": "stream",
          "name": "stdout",
          "text": [
            "not found\n"
          ]
        }
      ]
    },
    {
      "cell_type": "code",
      "source": [
        "#binary search using recurssion\n",
        "\n",
        "def bs(ar,target,l,h):\n",
        "  if (l>h):\n",
        "    return -1\n",
        "  mid = (l+h)//2\n",
        "  if ar[mid] == target:\n",
        "    return mid\n",
        "  elif ar[mid] < target:\n",
        "    return bs(ar,target,mid+1,h)\n",
        "  else :\n",
        "    return bs(ar,target,l, mid-1)\n",
        "\n",
        "ar=[10,20, 30 , 35,40, 45,60,70]#sorted array\n",
        "target = 20\n",
        "\n",
        "result= bs(ar,target,0,len(ar)-1)\n",
        "\n",
        "if result != -1:\n",
        "  print(\"found \",result)\n",
        "else:\n",
        "  print(\"not found\")\n",
        "\n"
      ],
      "metadata": {
        "id": "e9hvP3zuHoOy",
        "colab": {
          "base_uri": "https://localhost:8080/"
        },
        "outputId": "406c571c-ea58-4f46-ff1b-70589e03fb1f"
      },
      "execution_count": null,
      "outputs": [
        {
          "output_type": "stream",
          "name": "stdout",
          "text": [
            "found  1\n"
          ]
        }
      ]
    },
    {
      "cell_type": "code",
      "source": [
        "#linear search\n",
        "\n",
        "def linear_search(arr, target):\n",
        "  for i in range(len(arr)) :\n",
        "    if arr[i] == target:\n",
        "      return i   #target found\n",
        "  return -1           #target not found\n",
        "\n",
        "arr=[10,20, 30 , 35,40, 45,60,70]#sorted array\n",
        "target = 20\n",
        "result= linear_search(arr,target)\n",
        "\n",
        "if result != -1:\n",
        "  print(\"found at \",result)\n",
        "\n",
        "else:\n",
        "  print(\"not found\")"
      ],
      "metadata": {
        "colab": {
          "base_uri": "https://localhost:8080/"
        },
        "id": "i34kKi8tyjpY",
        "outputId": "205de5b2-7a85-4f5d-a753-01976cf6db5c"
      },
      "execution_count": null,
      "outputs": [
        {
          "output_type": "stream",
          "name": "stdout",
          "text": [
            "found at  1\n"
          ]
        }
      ]
    },
    {
      "cell_type": "code",
      "source": [
        "#bubble sort\n",
        "\n",
        "def bubble_sort(a):\n",
        "  n= len(a)\n",
        "  for i in range(0,n):\n",
        "    for j in range(0,n-i-1):\n",
        "      if a[j]>a[j+1]:\n",
        "        temp =a[j]\n",
        "        a[j]=a[j+1]             #a[j],a[j+1]= a[j+1],a[j]\n",
        "        a[j+1]=temp\n",
        "\n",
        "a = [3,7,8,9,-2,1,5]\n",
        "\n",
        "bubble_sort(a)\n",
        "print(a)"
      ],
      "metadata": {
        "colab": {
          "base_uri": "https://localhost:8080/"
        },
        "id": "BQrI9Lfy1URB",
        "outputId": "0abdc0a1-ae1e-4c24-fdc6-688fc8c3bf3f"
      },
      "execution_count": null,
      "outputs": [
        {
          "output_type": "stream",
          "name": "stdout",
          "text": [
            "[-2, 1, 3, 5, 7, 8, 9]\n"
          ]
        }
      ]
    },
    {
      "cell_type": "code",
      "source": [
        "#write a function to find fibonacci number\n",
        "\n",
        "def fibonacci(n):\n",
        "  if n <= 1:\n",
        "    return n\n",
        "  else:\n",
        "    return fibonacci(n-1) + fibonacci(n-2)\n",
        "\n",
        "n=6\n",
        "\n",
        "out= fibonacci(n)\n",
        "print(out)"
      ],
      "metadata": {
        "colab": {
          "base_uri": "https://localhost:8080/"
        },
        "id": "T_hzuPJF49vu",
        "outputId": "7eb3c8a7-7eb8-43b9-c819-2d3f44463720"
      },
      "execution_count": null,
      "outputs": [
        {
          "output_type": "stream",
          "name": "stdout",
          "text": [
            "0\n"
          ]
        }
      ]
    },
    {
      "cell_type": "code",
      "source": [
        "class Person(object):\n",
        "\n",
        "  def __init__(self, name, idnumber):\n",
        "    self.name = name\n",
        "    self.idnumber = idnumber\n",
        "\n",
        "  def display(self):\n",
        "    print(self.name)\n",
        "    print(self.idnumber)\n",
        "\n",
        "  def details(self):\n",
        "    print(f\"my name is {self.name}\")\n",
        "    print(\"idnumber: {}\".format(self.idnumber))\n",
        "\n",
        "#child class\n",
        "\n",
        "class Employee(Person):\n",
        "  def __init__(self, name, idnumber, salary,post):\n",
        "    self.salary = salary\n",
        "    self.post = post\n",
        "    Person.__init__(self, name, idnumber)\n",
        "\n",
        "  def details(self):\n",
        "    print(\"idnumber: {}\".format(self.idnumber))\n",
        "    print(\"salary: {}\".format(self.salary))\n",
        "    print(\"post: {}\".format(self.post))\n",
        "\n",
        "#creation of an object variable or instance\n",
        "\n",
        "a= Employee(\"Rahul\",886012,200000,\"Intern\")\n",
        "\n",
        "a.display()\n",
        "a.details()\n",
        "\n"
      ],
      "metadata": {
        "id": "OFoUEz2I-J2U",
        "colab": {
          "base_uri": "https://localhost:8080/"
        },
        "outputId": "9ae298e3-d601-4e7d-d620-9f8d19b69c0e"
      },
      "execution_count": null,
      "outputs": [
        {
          "output_type": "stream",
          "name": "stdout",
          "text": [
            "Rahul\n",
            "886012\n",
            "idnumber: 886012\n",
            "salary: 200000\n",
            "post: Intern\n"
          ]
        }
      ]
    },
    {
      "cell_type": "code",
      "source": [],
      "metadata": {
        "id": "AOOtQsIHN2jw"
      },
      "execution_count": null,
      "outputs": []
    }
  ]
}