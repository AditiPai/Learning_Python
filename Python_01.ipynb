{
  "nbformat": 4,
  "nbformat_minor": 0,
  "metadata": {
    "colab": {
      "provenance": []
    },
    "kernelspec": {
      "name": "python3",
      "display_name": "Python 3"
    },
    "language_info": {
      "name": "python"
    }
  },
  "cells": [
    {
      "cell_type": "code",
      "execution_count": 23,
      "metadata": {
        "colab": {
          "base_uri": "https://localhost:8080/"
        },
        "id": "q3dpih_Wav-S",
        "outputId": "baffdbf9-8a97-437d-b16d-a0bd031fcc5f"
      },
      "outputs": [
        {
          "output_type": "stream",
          "name": "stdout",
          "text": [
            "a:6\n",
            "b:90\n",
            " generating sum.......\n",
            "sum: 96\n"
          ]
        }
      ],
      "source": [
        "#sun 2 numbers\n",
        "a=int(input(\"a:\"))\n",
        "b=int(input(\"b:\"))\n",
        "print (\" generating sum.......\")\n",
        "print (\"sum:\",a+b)"
      ]
    },
    {
      "cell_type": "code",
      "source": [
        "#area of a square\n",
        "a= int(input(\"side of the square\"))\n",
        "area = a*a\n",
        "print (a)"
      ],
      "metadata": {
        "colab": {
          "base_uri": "https://localhost:8080/"
        },
        "id": "NZSdsm6ObeST",
        "outputId": "47f122bb-7b3d-4cea-a027-91102f618263"
      },
      "execution_count": 3,
      "outputs": [
        {
          "output_type": "stream",
          "name": "stdout",
          "text": [
            "side of the square6\n",
            "36\n"
          ]
        }
      ]
    },
    {
      "cell_type": "code",
      "source": [
        "#avg of 2 numbers\n",
        "a=int(input(\"a:\"))\n",
        "b=int(input(\"b:\"))\n",
        "avg=(a+b)/2\n",
        "print(avg)"
      ],
      "metadata": {
        "colab": {
          "base_uri": "https://localhost:8080/"
        },
        "id": "oLzl_7kOb0ja",
        "outputId": "f2bef081-8924-40fd-80ee-25cd76ddfca1"
      },
      "execution_count": 11,
      "outputs": [
        {
          "output_type": "stream",
          "name": "stdout",
          "text": [
            "a:5\n",
            "b:0\n",
            "2.5\n"
          ]
        }
      ]
    },
    {
      "cell_type": "code",
      "source": [
        "#condition check using clever if\n",
        "a=int(input(\"a:\"))\n",
        "b=int(input(\"b:\"))\n",
        "val=(\"False\", \"True\")[a>b]\n",
        "print(val)"
      ],
      "metadata": {
        "colab": {
          "base_uri": "https://localhost:8080/"
        },
        "id": "VJ4CjvjMcFX0",
        "outputId": "b14fce43-46fd-47fb-c63d-bf58ec889534"
      },
      "execution_count": 19,
      "outputs": [
        {
          "output_type": "stream",
          "name": "stdout",
          "text": [
            "a:5\n",
            "b:0\n",
            "True\n"
          ]
        }
      ]
    },
    {
      "cell_type": "code",
      "source": [
        "#string basics . length of the string\n",
        "name= input(\"your first name:\")\n",
        "print(len(name))\n"
      ],
      "metadata": {
        "colab": {
          "base_uri": "https://localhost:8080/"
        },
        "id": "wNNCRLxSc8sh",
        "outputId": "3a719d59-929e-4582-b135-ad303160bfba"
      },
      "execution_count": 12,
      "outputs": [
        {
          "output_type": "stream",
          "name": "stdout",
          "text": [
            "your first name:aditi\n",
            "5\n"
          ]
        }
      ]
    },
    {
      "cell_type": "code",
      "source": [
        "#count of string\n",
        "str1= \"$$$$$$$$$$$$$$$$$$$i am $$$$$$$$$$$$$$$$ ^7&832374rhsebfjsdhfL>OIWitrhzbscnhdzbn.QIO2483654738290987T6789087647389208YTFGXHJMNCB V\"\n",
        "print(str1.count(\"$\"))"
      ],
      "metadata": {
        "colab": {
          "base_uri": "https://localhost:8080/"
        },
        "id": "so9pc659yrJj",
        "outputId": "76a5b869-809e-4ef8-a437-79c393ad5dfd"
      },
      "execution_count": 13,
      "outputs": [
        {
          "output_type": "stream",
          "name": "stdout",
          "text": [
            "35\n"
          ]
        }
      ]
    },
    {
      "cell_type": "code",
      "source": [
        "#odd or even\n",
        "num= int(input(\"enter a number to be checked\"))\n",
        "if ((num % 2) == 1):\n",
        "  print(\"the number is odd\")\n",
        "\n",
        "else :\n",
        "  print (\"the number is even\")\n",
        "\n",
        "\n",
        ""
      ],
      "metadata": {
        "colab": {
          "base_uri": "https://localhost:8080/"
        },
        "id": "rY3D2fTLyrNR",
        "outputId": "df213b07-9911-42c1-fff6-3566dff1174a"
      },
      "execution_count": 17,
      "outputs": [
        {
          "output_type": "stream",
          "name": "stdout",
          "text": [
            "enter a number to be checked1\n",
            "the number is odd\n"
          ]
        }
      ]
    },
    {
      "cell_type": "code",
      "source": [
        "#find the greatest number\n",
        "num1 =int(input(\"number1:\"))\n",
        "num2 =int(input(\"number2:\"))\n",
        "num3 =int(input(\"number3:\"))\n",
        "\n",
        "if (num1>num2 and num1>num3):\n",
        "  num=num1\n",
        "elif(num2>num1 and num2>num3):\n",
        "  num=num2\n",
        "else:\n",
        "  num=num3\n",
        "\n",
        "print (\"the greatest number is:\",num)"
      ],
      "metadata": {
        "colab": {
          "base_uri": "https://localhost:8080/"
        },
        "id": "ZbPfziTi56wk",
        "outputId": "17db5489-c036-4954-ece4-7d1dcd0c5450"
      },
      "execution_count": 20,
      "outputs": [
        {
          "output_type": "stream",
          "name": "stdout",
          "text": [
            "number1:3\n",
            "number2:5\n",
            "number3:7\n",
            "the greatest number is: 7\n"
          ]
        }
      ]
    },
    {
      "cell_type": "code",
      "source": [
        "#multiple of 7\n",
        "num=int(input(\"number:\"))\n",
        "\n",
        "if ((num%7) ==0 ):\n",
        "  print (\"multiple of 7\")\n",
        "\n",
        "else:\n",
        "  print(\"not a multiple of 7\")"
      ],
      "metadata": {
        "colab": {
          "base_uri": "https://localhost:8080/"
        },
        "id": "o1I_9V_b7eUD",
        "outputId": "a88d43e3-0bec-4a4b-d065-7c1749beec0b"
      },
      "execution_count": 22,
      "outputs": [
        {
          "output_type": "stream",
          "name": "stdout",
          "text": [
            "number:77\n",
            "multiple of 7\n"
          ]
        }
      ]
    },
    {
      "cell_type": "code",
      "source": [
        "#input 3 movies store them in a list\n",
        "\n",
        "movies =[]\n",
        "\n",
        "mov1=input (\"movie1\")\n",
        "movies.append(mov1)\n",
        "mov2=input (\"movie2\")\n",
        "movies.append(mov2)\n",
        "mov3=input (\"movie3\")\n",
        "movies.append(mov3)\n",
        "\n",
        "print(movies)"
      ],
      "metadata": {
        "colab": {
          "base_uri": "https://localhost:8080/"
        },
        "id": "22tQ9KSZ83Xc",
        "outputId": "ebc01e50-2fc3-49f5-f0e6-dc381351a034"
      },
      "execution_count": 9,
      "outputs": [
        {
          "output_type": "stream",
          "name": "stdout",
          "text": [
            "movie1tuio\n",
            "movie2jyd\n",
            "movie3kuuh\n",
            "['tuio', 'jyd', 'kuuh']\n"
          ]
        }
      ]
    },
    {
      "cell_type": "code",
      "source": [
        "#check if the list is pallindrome or not\n",
        "\n",
        "lst =input(\"enter a list of elements seperated by space: \")\n",
        "user_list = lst.split()\n",
        "\n",
        "user_list .reverse()\n",
        "\n",
        "if user_list  == lst.split() :\n",
        "  print(\"list is a pallindrome\")\n",
        "else :\n",
        "  print(\"not a pallindrome\")"
      ],
      "metadata": {
        "colab": {
          "base_uri": "https://localhost:8080/"
        },
        "id": "WaTtzyHddoo3",
        "outputId": "98773cdc-ca05-429a-db0c-b06b749b8c07"
      },
      "execution_count": 35,
      "outputs": [
        {
          "output_type": "stream",
          "name": "stdout",
          "text": [
            "enter a list of elements seperated by space: madam\n",
            "list is a pallindrome\n"
          ]
        }
      ]
    },
    {
      "cell_type": "code",
      "source": [
        "dict={\"table\": [\" a piece of furniture\",\"list of facts and figures\"],\"cat\": \"a small animal\"}\n",
        "print(dict)"
      ],
      "metadata": {
        "colab": {
          "base_uri": "https://localhost:8080/"
        },
        "id": "OR9pRxq9dqKL",
        "outputId": "b3136efd-2886-48fc-abd4-6f444f8a46b9"
      },
      "execution_count": 38,
      "outputs": [
        {
          "output_type": "stream",
          "name": "stdout",
          "text": [
            "{'table': [' a piece of furniture', 'list of facts and figures'], 'cat': 'a small animal'}\n"
          ]
        }
      ]
    },
    {
      "cell_type": "code",
      "source": [
        "lst=[\"python\", \"c++\",\"java\",\"python\",\"javascript\",\"java\",\"python\", \"java\",\"c\", \"c++\"]\n",
        "print(len(set(lst)))"
      ],
      "metadata": {
        "colab": {
          "base_uri": "https://localhost:8080/"
        },
        "id": "kA7-H7_YdqSe",
        "outputId": "b744aae9-1c40-42ac-f03e-6b1c5fadd69a"
      },
      "execution_count": 39,
      "outputs": [
        {
          "output_type": "stream",
          "name": "stdout",
          "text": [
            "5\n"
          ]
        }
      ]
    },
    {
      "cell_type": "code",
      "source": [
        "#print list\n",
        "lst = [1, 2, 3, 4, 6, 7, 9, 7, 5, 4]\n",
        "for i in lst:\n",
        "  print(i)\n",
        "\n",
        "\n"
      ],
      "metadata": {
        "colab": {
          "base_uri": "https://localhost:8080/"
        },
        "id": "LqMY_ZLpdqWo",
        "outputId": "96b9083b-d7d5-4fe1-b548-ea9321532302"
      },
      "execution_count": 58,
      "outputs": [
        {
          "output_type": "stream",
          "name": "stdout",
          "text": [
            "1\n",
            "2\n",
            "3\n",
            "4\n",
            "6\n",
            "7\n",
            "9\n",
            "7\n",
            "5\n",
            "4\n"
          ]
        }
      ]
    },
    {
      "cell_type": "code",
      "source": [
        "tup =(1,2,3,4 ,5,65 ,6,7,4,0,90)\n",
        "num= int(input(\"enter a value to be searched\"))\n",
        "\n",
        "\n",
        "for i in tup:\n",
        "  if(num== i):\n",
        "    print(\"the number is in \",i,\"position\")\n",
        "    break\n",
        "  i +=1\n",
        ""
      ],
      "metadata": {
        "colab": {
          "base_uri": "https://localhost:8080/"
        },
        "id": "Ij5NgmVG7leu",
        "outputId": "bbca8f52-738f-481b-d216-287fc5c1bc9e"
      },
      "execution_count": 61,
      "outputs": [
        {
          "output_type": "stream",
          "name": "stdout",
          "text": [
            "enter a value to be searched7\n",
            "the number is in  7 position\n"
          ]
        }
      ]
    },
    {
      "cell_type": "code",
      "source": [
        "#sum of natural numbers using while\n",
        "n=int(input(\"enter the number till where sum has to be found\"))\n",
        "i=0\n",
        "sum=0\n",
        "while(i<=n):\n",
        "  sum=sum+i\n",
        "  i+=1\n",
        "\n",
        "print(\"sum of n natural numbers is\", sum)\n"
      ],
      "metadata": {
        "colab": {
          "base_uri": "https://localhost:8080/"
        },
        "id": "rh6QUORu-Cbv",
        "outputId": "6a8f3f7e-a540-4c7b-94da-de3a949db142"
      },
      "execution_count": 69,
      "outputs": [
        {
          "output_type": "stream",
          "name": "stdout",
          "text": [
            "enter the number till where sum has to be found6\n",
            "sum of n natural numbers is 21\n"
          ]
        }
      ]
    },
    {
      "cell_type": "code",
      "source": [
        "#factorial using for\n",
        "n=int(input(\"enter the number till where sum has to be found\"))\n",
        "fact=1\n",
        "\n",
        "for i in range (1,n+1,1):\n",
        "  fact *= i\n",
        "\n",
        "\n",
        "\n",
        "print(\"factorial of n natural numbers is\", fact)\n"
      ],
      "metadata": {
        "colab": {
          "base_uri": "https://localhost:8080/"
        },
        "id": "YppOKImeDCty",
        "outputId": "3d048411-7d37-4d12-8bb1-9f293dd4ae7a"
      },
      "execution_count": 77,
      "outputs": [
        {
          "output_type": "stream",
          "name": "stdout",
          "text": [
            "enter the number till where sum has to be found5\n",
            "factorial of n natural numbers is 120\n"
          ]
        }
      ]
    },
    {
      "cell_type": "code",
      "source": [
        "#len of list using fun\n",
        "def len_list(lst):\n",
        "  ll=len(lst)\n",
        "  return ll\n",
        "\n",
        "def print_lst(lst):\n",
        "  for i in range(len(lst)):\n",
        "    p_lst=print(i,end=\" \")\n",
        "  return p_lst\n",
        "\n",
        "lst=[1,2 ,3,4 ,5]\n",
        "length=len_list(lst)\n",
        "print(length)\n",
        "print_lst(lst)\n",
        "\n",
        "\n"
      ],
      "metadata": {
        "colab": {
          "base_uri": "https://localhost:8080/"
        },
        "id": "ZJTOqrtwFmpJ",
        "outputId": "822186bc-7f4d-4d38-83aa-dfe5c945d206"
      },
      "execution_count": 5,
      "outputs": [
        {
          "output_type": "stream",
          "name": "stdout",
          "text": [
            "5\n",
            "0 1 2 3 4 "
          ]
        }
      ]
    },
    {
      "cell_type": "code",
      "source": [
        "#factorial of n using fun\n",
        "def calc_fact(n):\n",
        "  fact=1\n",
        "  for i in range (1,n+1,1):\n",
        "    fact *= i\n",
        "  print(fact)\n",
        "\n",
        "n= int(input(\"enter the no whose factorial is to be found: \"))\n",
        "calc_fact(n)\n"
      ],
      "metadata": {
        "colab": {
          "base_uri": "https://localhost:8080/"
        },
        "id": "apwThI_2hBSv",
        "outputId": "24281fc1-fef0-4365-cf84-7b31893db2ac"
      },
      "execution_count": 12,
      "outputs": [
        {
          "output_type": "stream",
          "name": "stdout",
          "text": [
            "enter the no whose factorial is to be found: 4\n",
            "24\n"
          ]
        }
      ]
    },
    {
      "cell_type": "code",
      "source": [
        "#sum of naturals using recursive functions\n",
        "def calc_sum(n):\n",
        "  if n==0:\n",
        "    return 0\n",
        "  return calc_sum(n-1)+ n\n",
        "\n",
        "sum=calc_sum(5)\n",
        "print(sum)"
      ],
      "metadata": {
        "colab": {
          "base_uri": "https://localhost:8080/"
        },
        "id": "XrBzWgNstmWY",
        "outputId": "7bfbf459-2728-480f-fef5-5e8a74028ac4"
      },
      "execution_count": 20,
      "outputs": [
        {
          "output_type": "stream",
          "name": "stdout",
          "text": [
            "15\n"
          ]
        }
      ]
    },
    {
      "cell_type": "code",
      "source": [
        "# print all elements in a list using recursive function hint:use list and index as parameter\n",
        "\n",
        "def print_lst(lst,idx=0):\n",
        "  if (idx==len(lst)):\n",
        "    return 0\n",
        "  print(lst[idx])\n",
        "  print_lst(lst,idx+1)\n",
        "\n",
        "numbers=[1,2,3,4,5]\n",
        "print_lst(numbers)"
      ],
      "metadata": {
        "colab": {
          "base_uri": "https://localhost:8080/"
        },
        "id": "lHWG7Q7MtmTz",
        "outputId": "f07ddd15-a4bb-4933-a29a-298bcb220642"
      },
      "execution_count": 31,
      "outputs": [
        {
          "output_type": "stream",
          "name": "stdout",
          "text": [
            "1\n",
            "2\n",
            "3\n",
            "4\n",
            "5\n"
          ]
        }
      ]
    },
    {
      "cell_type": "code",
      "source": [
        "with open(\"demo.txt\",\"r\")as f:\n",
        "  data =f.read()\n",
        "\n",
        "new_data=data.replace(\"java\",\"python\")\n",
        "print (new_data)"
      ],
      "metadata": {
        "colab": {
          "base_uri": "https://localhost:8080/"
        },
        "id": "WDqUF08FtmNy",
        "outputId": "2772cc4e-c621-486a-f8f4-6f5a2bb24e88"
      },
      "execution_count": 5,
      "outputs": [
        {
          "output_type": "stream",
          "name": "stdout",
          "text": [
            "hi everyone\n",
            " we are learning file I/O \n",
            "using python \n",
            "i like using python\n"
          ]
        }
      ]
    },
    {
      "cell_type": "code",
      "source": [
        "\"\"\"def word_search():\n",
        "  with open(\"demo.txt\",\"r\")as f:\n",
        "    data =f.read()\n",
        "    word=\"learning\"\n",
        "    if word in data:\n",
        "      print(\"FOUND\")\n",
        "    else:\n",
        "      print(\"NOT FOUND\")\n",
        "\"\"\"\n",
        "def line_check():\n",
        "  word=\"learning\"\n",
        "  data = True\n",
        "  line_count=1\n",
        "  with open(\"demo.txt\",\"r\")as f:\n",
        "    data=f.readline()\n",
        "    while data ==True :\n",
        "      if word in data:\n",
        "        print(line_count)\n",
        "        return\n",
        "      line_count+=1\n",
        "\n",
        "      return -1\n",
        "\n",
        "line_check()\n"
      ],
      "metadata": {
        "id": "1lVHgnfltmKQ"
      },
      "execution_count": 21,
      "outputs": []
    },
    {
      "cell_type": "code",
      "source": [
        "with open(\"demo.txt\",\"r\")as f:\n",
        "  data=f.read()\n",
        "  print(data)\n",
        "\n",
        "nums=data.split(\",\")\n",
        "print(nums)\n",
        "\n",
        "for val in nums:\n",
        "  if (int(val) % 2 == 0):\n",
        "    count += 1\n",
        "  num+=1\n",
        "\n",
        "print(count)"
      ],
      "metadata": {
        "colab": {
          "base_uri": "https://localhost:8080/"
        },
        "id": "RC3z68dU9nLf",
        "outputId": "23af3589-0de4-45af-a22c-32cf5d045eae"
      },
      "execution_count": 34,
      "outputs": [
        {
          "output_type": "stream",
          "name": "stdout",
          "text": [
            "2,4,56,78,97,97,54,34,32\n",
            "['2', '4', '56', '78', '97', '97', '54', '34', '32']\n",
            "7\n"
          ]
        }
      ]
    },
    {
      "cell_type": "code",
      "source": [
        "#class and attributes\n",
        "#creating a class with a constructor with name and marks of 3 subjects as arguments in constructor\n",
        "#then create a method to print average\n",
        "\n",
        "class Student:\n",
        "  def __init__(self,name, marks1,marks2,marks3):#or you can make marks and create a list while calling a object\n",
        "    self.name= name\n",
        "    self.marks1= marks1\n",
        "    self.marks2= marks2\n",
        "    self.marks3= marks3\n",
        "\n",
        "  def get_average(self):\n",
        "    sum=self.marks1+self.marks2+self.marks3\n",
        "    avg=sum/3\n",
        "    return avg\n",
        "\n",
        "s1=Student(\"karan\",89,79,90)\n",
        "print(s1.name)\n",
        "print(s1.marks1)\n",
        "print(s1.marks2)\n",
        "print(s1.get_average())\n"
      ],
      "metadata": {
        "colab": {
          "base_uri": "https://localhost:8080/"
        },
        "id": "dlwF4XfXDcDY",
        "outputId": "c34823f6-4f66-4c0a-9211-4a4b79644de5"
      },
      "execution_count": 36,
      "outputs": [
        {
          "output_type": "stream",
          "name": "stdout",
          "text": [
            "karan\n",
            "89\n",
            "79\n",
            "86.0\n"
          ]
        }
      ]
    },
    {
      "cell_type": "code",
      "source": [
        "#create an class bank account having account no and balance as attributes create methods in printing balance ,credit and debit\n",
        "\n",
        "class Account:\n",
        "  def __init__(self,account_no, balance):\n",
        "    self.accoount_no=account_no\n",
        "    self.balance= balance\n",
        "\n",
        "  def debit(self, amount):\n",
        "    self.balance -= amount\n",
        "    print(\"Rs.\",amount,\"was debited from your account\")\n",
        "    print(\"total balance\",self.Get_balance())\n",
        "\n",
        "  def credit(self.amount):\n",
        "    self.balance += amount\n",
        "    print(\"Rs.\",amount,\"was credited from your account\")\n",
        "    print(\"total balance\",self.Get_balance())\n",
        "\n",
        "  def Get_balance(self):\n",
        "    return self.balance\n",
        "\n",
        "acc1 = Account(12345,10000)\n",
        "acc1.credit(1000)\n",
        "acc1.debit(500)\n",
        "\n"
      ],
      "metadata": {
        "colab": {
          "base_uri": "https://localhost:8080/"
        },
        "id": "tykyvUkKR2Zy",
        "outputId": "462a375b-6670-45d3-f15a-1d98ea434338"
      },
      "execution_count": 2,
      "outputs": [
        {
          "output_type": "stream",
          "name": "stdout",
          "text": [
            "Rs. 1000 was credited from your account\n",
            "total balance 11000\n",
            "Rs. 500 was debited from your account\n",
            "total balance 10500\n"
          ]
        }
      ]
    },
    {
      "cell_type": "code",
      "source": [],
      "metadata": {
        "id": "oSP7HwL68zBw"
      },
      "execution_count": null,
      "outputs": []
    }
  ]
}