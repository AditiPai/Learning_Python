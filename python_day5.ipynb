{
  "nbformat": 4,
  "nbformat_minor": 0,
  "metadata": {
    "colab": {
      "provenance": [],
      "authorship_tag": "ABX9TyM6NIUwe7rELxai32sUtSY/",
      "include_colab_link": true
    },
    "kernelspec": {
      "name": "python3",
      "display_name": "Python 3"
    },
    "language_info": {
      "name": "python"
    }
  },
  "cells": [
    {
      "cell_type": "markdown",
      "metadata": {
        "id": "view-in-github",
        "colab_type": "text"
      },
      "source": [
        "<a href=\"https://colab.research.google.com/github/AditiPai/Learning_Python/blob/main/python_day5.ipynb\" target=\"_parent\"><img src=\"https://colab.research.google.com/assets/colab-badge.svg\" alt=\"Open In Colab\"/></a>"
      ]
    },
    {
      "cell_type": "code",
      "execution_count": null,
      "metadata": {
        "id": "av-Pk-XfoiJC"
      },
      "outputs": [],
      "source": [
        "#nested dictionary\n",
        "\n",
        "my_family = {\n",
        "    \"child1\":{\n",
        "        \"name\" : \"emil\",\n",
        "        \"year\" : \"2004\",\n",
        "    },\n",
        "    \"child2\":{\n",
        "        \"name\" : \"Toblas\",\n",
        "        \"year\" : \"2007\",\n",
        "    },\n",
        "\n",
        "    \"child3\":{\n",
        "        \"name\" : \"Linus\",\n",
        "        \"year\" : \"2011\",\n",
        "\n",
        "    }\n",
        "\n",
        "}\n"
      ]
    },
    {
      "cell_type": "code",
      "source": [
        "print(my_family)\n",
        "print(my_family[\"child1\"][\"name\"])"
      ],
      "metadata": {
        "id": "aAI40yzHoz3Y"
      },
      "execution_count": null,
      "outputs": []
    },
    {
      "cell_type": "code",
      "source": [
        "for x,obj in my_family.items():\n",
        "  print(x)\n",
        "  for y in obj:\n",
        "    print(y+\":\",obj[y])"
      ],
      "metadata": {
        "id": "5YZk3aQho351"
      },
      "execution_count": null,
      "outputs": []
    },
    {
      "cell_type": "code",
      "source": [
        "#string\n",
        "\n",
        "a= input()\n",
        "\n",
        "print(\"length of the string\", len(a))\n",
        "\n",
        "print(\"Uppercase:\",a.upper())\n",
        "print(\"Lowercase:\",a.lower())\n",
        "\n",
        "print(a.isupper())\n",
        "print(a.islower())\n",
        "\n",
        "print(\"capitalized:\",a.capitalize())\n",
        "print(\"capitalizing using title:\", a.title())\n",
        "\n",
        "sub= input(\"enter a substring to count the number of occurances:\")\n",
        "print(\"occourances of \", sub,\"is\", a.count(sub))\n",
        "\n",
        "pre =input(\"enter a prefix to check if the string starts with it:\")\n",
        "print('starts with:', pre ,\":\", a.startswith(pre))\n",
        "\n",
        "post =input(\"enter a prefix to check if the string ends with it:\")\n",
        "print('ends with:', post ,\":\", a.endswith(post))\n",
        "\n",
        "old = input(\"enter a substring to replace: \")\n",
        "new = input('enter a replacement substring')\n",
        "print(\"after replacement: \", a.replace(old,new))\n",
        "\n",
        "de = input(\"Enter a delimiter to split the string: \")\n",
        "print(\"split string:\", a.split(de))\n",
        "\n",
        "subs = input(\"enter a substring(separated by space):\").split()\n",
        "join_de = input (\"enter a delimiter to join the substring\")\n",
        "print(\"joined:\",join_de.join(subs))\n",
        "\n",
        "print(a.strip())\n",
        "print(a.rfind(\"l\"))\n",
        "print(a.index(\"l\"))"
      ],
      "metadata": {
        "id": "PhZOjkOlo4AC"
      },
      "execution_count": null,
      "outputs": []
    },
    {
      "cell_type": "code",
      "source": [
        "#formatting a string\n",
        "\n",
        "age = 21\n",
        "name = input()\n",
        "print(f\"my name is {name},I am {age}\")"
      ],
      "metadata": {
        "id": "BV8igua6o4Eg"
      },
      "execution_count": null,
      "outputs": []
    },
    {
      "cell_type": "code",
      "source": [
        "#reversing a string\n",
        "\n",
        "string = input()\n",
        "reverse = string[::-1]\n",
        "print(reverse)\n",
        "\n",
        "#you can do this using loops\n"
      ],
      "metadata": {
        "id": "s0qxCkDEo4Ha"
      },
      "execution_count": null,
      "outputs": []
    },
    {
      "cell_type": "code",
      "source": [
        "#Defining a function\n",
        "\n",
        "def fun(x,y=50):# y is a default parameter\n",
        "  print(\"x: \", x)\n",
        "  print(\"y: \", y)\n",
        "\n",
        "fun(10)# x is a direct parameter"
      ],
      "metadata": {
        "id": "v5YR8roeo4JY"
      },
      "execution_count": null,
      "outputs": []
    },
    {
      "cell_type": "code",
      "source": [
        "#keyworded arguments\n",
        "\n",
        "\n",
        "def student(first, last):\n",
        "  print(first,last)\n",
        "\n",
        "student(first=\"aditi\",last=\"pai\")\n",
        "student(last=\"pai\",first=\"aditi\")\n"
      ],
      "metadata": {
        "id": "otS8Xv08o4L-"
      },
      "execution_count": null,
      "outputs": []
    },
    {
      "cell_type": "code",
      "source": [
        "def my_func(*argv):\n",
        "  print(argv)\n",
        "\n",
        "my_func('hello','welcome','to','welcome')"
      ],
      "metadata": {
        "id": "F45-WhiGo4OX"
      },
      "execution_count": null,
      "outputs": []
    },
    {
      "cell_type": "code",
      "source": [
        "def my_func(**kwargv):\n",
        "  print(kwargv)\n",
        "\n",
        "my_func(a='hello',b='welcome')"
      ],
      "metadata": {
        "id": "BLTfzeeFo4Qc"
      },
      "execution_count": null,
      "outputs": []
    },
    {
      "cell_type": "code",
      "source": [
        "#anonumous function -cube of a number using lamda function\n",
        "\n",
        "def cube():\n",
        "  return x*x*x\n",
        "\n",
        "cube_v2=lambda x : x*x*x\n",
        "\n",
        "print(cube(7))\n",
        "print(cube_v2(7))\n"
      ],
      "metadata": {
        "id": "C8HWecb5o4TF"
      },
      "execution_count": null,
      "outputs": []
    },
    {
      "cell_type": "code",
      "source": [
        "#recursive function\n",
        "\n",
        "def pow(n,p):\n",
        "  return 1 if p==0 else n*pow(n,p-1)\n",
        "\n",
        "n=int(input())\n",
        "p=int(input())\n",
        "a=pow(n,p)\n",
        "print(a)\n"
      ],
      "metadata": {
        "id": "B0CqfU_xo4Vq"
      },
      "execution_count": null,
      "outputs": []
    },
    {
      "cell_type": "code",
      "source": [
        "#pattern printing problem using recurrsion\n",
        "\n",
        "\"\"\"\n",
        "5 4 3 2 1\n",
        "5 4 3 2\n",
        "5 4 3\n",
        "5 4\n",
        "5\n",
        "\n",
        "\"\"\"\n",
        "\n",
        "def pattern(n,m):\n",
        "  if n == 0:\n",
        "    return\n",
        "  for i in range (5,m-1,-1):\n",
        "    print(i,end=\" \")\n",
        "  print()\n",
        "  pattern(n-1,m+1)\n",
        "\n",
        "n=5\n",
        "pattern(n,1)"
      ],
      "metadata": {
        "colab": {
          "base_uri": "https://localhost:8080/"
        },
        "id": "vOOEgkGgpbnt",
        "outputId": "9a654010-9449-4720-e665-cd93571e8acb"
      },
      "execution_count": null,
      "outputs": [
        {
          "output_type": "stream",
          "name": "stdout",
          "text": [
            "5 4 3 2 1 \n",
            "5 4 3 2 \n",
            "5 4 3 \n",
            "5 4 \n",
            "5 \n"
          ]
        }
      ]
    },
    {
      "cell_type": "code",
      "source": [
        "#wap to convert dcimal to binary:\n",
        "\n",
        "\n",
        "def binary(d):\n",
        "  if d == 0:\n",
        "    return\"0\"\n",
        "  b=\"\"\n",
        "  while d>0:\n",
        "    b=str(d%2)+b          #string concatenation\n",
        "    d=d//2\n",
        "  return b\n",
        "\n",
        "d= int(input())\n",
        "b= binary(d)\n",
        "print(b)"
      ],
      "metadata": {
        "colab": {
          "base_uri": "https://localhost:8080/"
        },
        "id": "7i5Cag2gpbxC",
        "outputId": "a60b18eb-e975-4440-c355-3ee8432d4736"
      },
      "execution_count": null,
      "outputs": [
        {
          "output_type": "stream",
          "name": "stdout",
          "text": [
            "22\n",
            "10110\n"
          ]
        }
      ]
    }
  ]
}