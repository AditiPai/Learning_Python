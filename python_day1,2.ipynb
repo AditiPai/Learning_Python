{
  "nbformat": 4,
  "nbformat_minor": 0,
  "metadata": {
    "colab": {
      "provenance": [],
      "authorship_tag": "ABX9TyM1mtnrRIXkgVT1ehmf3K4z",
      "include_colab_link": true
    },
    "kernelspec": {
      "name": "python3",
      "display_name": "Python 3"
    },
    "language_info": {
      "name": "python"
    }
  },
  "cells": [
    {
      "cell_type": "markdown",
      "metadata": {
        "id": "view-in-github",
        "colab_type": "text"
      },
      "source": [
        "<a href=\"https://colab.research.google.com/github/AditiPai/Learning_Python/blob/main/python_day1%2C2.ipynb\" target=\"_parent\"><img src=\"https://colab.research.google.com/assets/colab-badge.svg\" alt=\"Open In Colab\"/></a>"
      ]
    },
    {
      "cell_type": "code",
      "execution_count": null,
      "metadata": {
        "colab": {
          "base_uri": "https://localhost:8080/"
        },
        "id": "Eey9uihgRvYN",
        "outputId": "151c1280-154a-485c-e928-a01158150d21"
      },
      "outputs": [
        {
          "output_type": "stream",
          "name": "stdout",
          "text": [
            "what is your name? Aditi\n",
            "which year were you born2003\n",
            "the person is Aditi born in 2003 whose age is 21\n"
          ]
        }
      ],
      "source": [
        "#write a python program to read the name and year of birth of a person\n",
        "#and calculate his age in 2024\n",
        "\n",
        "name = input( \"what is your name? \")\n",
        "year = input(\"which year were you born\")\n",
        "\n",
        "age = 2024 - int(year)\n",
        "print(\"the person is\" + \" \"+ name +\" \" +\"born in\" + \" \"+year +\" \"+ \"whose age is\"+ \" \"+ str(age))"
      ]
    },
    {
      "cell_type": "code",
      "source": [
        "#read the marks of the student if marks is greater than 80 distinction\n",
        "#between 60-80 pass, less that 60 fail otherwise fail\n",
        "\n",
        "marks= int(input(\"enter the marks\"))\n",
        "\n",
        "if( marks < 100 and marks > 80):\n",
        "  print (\"distinction\")\n",
        "elif(marks < 60 and marks > 80 ):\n",
        "  print(\"pass\")\n",
        "elif (marks < 60):\n",
        "  print(\"fail\")\n",
        "else:\n",
        "  print (\"invalid\")\n"
      ],
      "metadata": {
        "colab": {
          "base_uri": "https://localhost:8080/"
        },
        "id": "Ojotv7TBc1bn",
        "outputId": "0c41d07c-e4ac-4ed2-a79d-063f63cdc95b"
      },
      "execution_count": null,
      "outputs": [
        {
          "output_type": "stream",
          "name": "stdout",
          "text": [
            "enter the marks222\n",
            "invalid\n"
          ]
        }
      ]
    },
    {
      "cell_type": "code",
      "source": [
        "# write a program to check if a no is prime or not\n",
        "\n",
        "num = int(input(\"enter a number\"))\n",
        "if num ==1 or 0:\n",
        "  print(num, \"is not a prime number\")\n",
        "if num ==2 :\n",
        "  print(num, \"is a prime number\")\n",
        "\n",
        "for i in range (2,num):\n",
        "  if num % i == 0 :\n",
        "    print(num, \"is not a prime number\")\n",
        "    break\n",
        "  else :\n",
        "    print(num ,\" is a prime\")\n",
        "    break\n"
      ],
      "metadata": {
        "colab": {
          "base_uri": "https://localhost:8080/"
        },
        "id": "n2afvfgQhjaC",
        "outputId": "5be1b7bd-500b-47fe-f4e5-7dce98da7867"
      },
      "execution_count": null,
      "outputs": [
        {
          "output_type": "stream",
          "name": "stdout",
          "text": [
            "enter a number4\n",
            "4 is not a prime number\n"
          ]
        }
      ]
    },
    {
      "cell_type": "code",
      "source": [
        "#write a program to generate all prime numbers between 1 to n\n",
        "\n",
        "start = int(input(\"enter a number\"))\n",
        "end = int(input(\"enter a number\"))\n",
        "count = 0\n",
        "for num in range (start,end+1):\n",
        "  for i in range (2,num):\n",
        "    if num % i == 0:\n",
        "      break\n",
        "  else :\n",
        "    print(num)\n",
        "    count+=1\n",
        "\n",
        "print(\"total prime numbers are\", count)"
      ],
      "metadata": {
        "colab": {
          "base_uri": "https://localhost:8080/"
        },
        "id": "EP5eAQra0Clo",
        "outputId": "63dbc3c5-28a3-420e-ac27-34dbf65965b8"
      },
      "execution_count": null,
      "outputs": [
        {
          "output_type": "stream",
          "name": "stdout",
          "text": [
            "enter a number11\n",
            "enter a number30\n",
            "11\n",
            "13\n",
            "17\n",
            "19\n",
            "23\n",
            "29\n",
            "total prime numbers are 6\n"
          ]
        }
      ]
    },
    {
      "cell_type": "code",
      "source": [
        "#write a program to check if a number is strong number or not\n",
        "#the sum of factorial of each digit of a number is equal to the number itself 145\n",
        "\n",
        "def fact(num):\n",
        "  return 1 if (num==1 or num==0) else num * fact(num-1)\n",
        "\n",
        "num = int(input(\"enter a number\"))\n",
        "sum = 0\n",
        "temp = num\n",
        "while(num):\n",
        "  a = num % 10\n",
        "  sum += fact(a)\n",
        "  num = num // 10\n",
        "\n",
        "if temp == sum :\n",
        "  print(temp,\"is a strong number\")\n",
        "else:\n",
        "  print(temp,\"is not a strong number\")\n",
        "\n",
        "\n"
      ],
      "metadata": {
        "colab": {
          "base_uri": "https://localhost:8080/"
        },
        "id": "2pRW-whs0jnA",
        "outputId": "1a2272d0-04cb-4769-c8da-44b78d9ba86f"
      },
      "execution_count": null,
      "outputs": [
        {
          "output_type": "stream",
          "name": "stdout",
          "text": [
            "enter a number145\n",
            "145 is a strong number\n"
          ]
        }
      ]
    },
    {
      "cell_type": "code",
      "source": [
        "#write a program to check if the number is amstrong number or not\n",
        "#the sum of  individual digits to the power of length of the number is equal to the number itself 153\n",
        "\n",
        "\n",
        "num = int(input(\"enter a number\"))\n",
        "sum = 0\n",
        "temp = num\n",
        "order = len(str(num))\n",
        "\n",
        "while(num):\n",
        "  a = num % 10\n",
        "  sum = sum + a ** order\n",
        "  num =num // 10\n",
        "\n",
        "if sum == temp:\n",
        "  print(temp,\"is an amstrong number\")\n",
        "else:\n",
        "  print(temp,\"is not an amstrong number\")"
      ],
      "metadata": {
        "colab": {
          "base_uri": "https://localhost:8080/"
        },
        "id": "qsRnBcJp0jwJ",
        "outputId": "d387b2a3-9275-4d6c-896f-b7f11d9716bb"
      },
      "execution_count": null,
      "outputs": [
        {
          "output_type": "stream",
          "name": "stdout",
          "text": [
            "enter a number153\n",
            "153 is an amstrong number\n"
          ]
        }
      ]
    },
    {
      "cell_type": "code",
      "source": [
        "#check a number if it is happy or not\n",
        "# example\n",
        "def isHappy(n):\n",
        "    sum = 0\n",
        "    while(n):\n",
        "        r = n % 10\n",
        "        sum = sum + r ** 2\n",
        "        n = n //10\n",
        "    return sum\n",
        "\n",
        "num = int(input())\n",
        "res = num\n",
        "\n",
        "\n",
        "if (num == 1 ):\n",
        "    print(True)\n",
        "\n",
        "elif (num == 4):\n",
        "    print(False)\n",
        "\n",
        "while(num != 1 or 4 ) :\n",
        "    num = isHappy(num)\n",
        "    if (num == 1 ):\n",
        "        print(True)\n",
        "        break\n",
        "    elif (num == 4):\n",
        "        print(False)\n",
        "        break\n"
      ],
      "metadata": {
        "id": "UM0sZewH1DMG",
        "colab": {
          "base_uri": "https://localhost:8080/"
        },
        "outputId": "7e109918-0317-4bdd-c7a2-3087b2d4315b"
      },
      "execution_count": null,
      "outputs": [
        {
          "output_type": "stream",
          "name": "stdout",
          "text": [
            "19\n",
            "True\n"
          ]
        }
      ]
    },
    {
      "cell_type": "code",
      "source": [
        "# check if a number is neon no or not\n",
        "# sum of the square of individual digits is equal to the number itself9\n",
        "\n",
        "num = int(input(\"enter a number\"))\n",
        "r = num * num\n",
        "sum = 0\n",
        "\n",
        "while(r):\n",
        "  a = r % 10\n",
        "  sum = sum + a\n",
        "  r = r // 10\n",
        "\n",
        "if sum == num:\n",
        "  print(num,\"is a neon number\")\n",
        "else:\n",
        "  print(num,\"is not a neon number\")\n",
        "\n"
      ],
      "metadata": {
        "colab": {
          "base_uri": "https://localhost:8080/"
        },
        "id": "J4fIt7FJ1DQw",
        "outputId": "94a5c978-bd83-4adb-c60e-c45b892a0dd9"
      },
      "execution_count": null,
      "outputs": [
        {
          "output_type": "stream",
          "name": "stdout",
          "text": [
            "enter a number67\n",
            "67 is not a neon number\n"
          ]
        }
      ]
    },
    {
      "cell_type": "code",
      "source": [
        "#check if a number is spy number or not\n",
        "#the sum of digits is equal to the product of digits 1124\n",
        "\n",
        "num = int(input(\"enter a number\"))\n",
        "temp = num\n",
        "sum = 0\n",
        "product =1\n",
        "\n",
        "while (num):\n",
        "  a= num % 10\n",
        "  sum = sum + a\n",
        "  product = product * a\n",
        "  num = num // 10\n",
        "\n",
        "if (sum == product ):\n",
        "  print(temp,\"is a spy number\")\n",
        "else:\n",
        "  print(temp,\"is not a spy number\")"
      ],
      "metadata": {
        "colab": {
          "base_uri": "https://localhost:8080/"
        },
        "id": "n-TlzSI71M__",
        "outputId": "956c1e7f-046f-49a2-9224-a7c628d7f498"
      },
      "execution_count": null,
      "outputs": [
        {
          "output_type": "stream",
          "name": "stdout",
          "text": [
            "enter a number1124\n",
            "1124 is a spy number\n"
          ]
        }
      ]
    },
    {
      "cell_type": "code",
      "source": [
        "# write a program to generate fibonacci series and fibonnacci number of a given number n\n",
        "num = int(input(\"enter a number\"))\n",
        "\n",
        "fib1 = 0\n",
        "fib2 = 1\n",
        "print(fib1,fib2, end=\" \")\n",
        "\n",
        "for num in range (2 , num):\n",
        "    fib3 = fib1 +fib2\n",
        "    print(fib3, end=\" \")\n",
        "    fib1 = fib2\n",
        "    fib2 = fib3\n",
        "\n",
        "\n"
      ],
      "metadata": {
        "id": "POSdo41g1YNL",
        "colab": {
          "base_uri": "https://localhost:8080/"
        },
        "outputId": "2c68150b-ad6d-45f8-cffe-827a2d5fdf28"
      },
      "execution_count": null,
      "outputs": [
        {
          "output_type": "stream",
          "name": "stdout",
          "text": [
            "enter a number23\n",
            "0 1 1 2 3 5 8 13 21 34 55 89 144 233 377 610 987 1597 2584 4181 6765 10946 17711 "
          ]
        }
      ]
    },
    {
      "cell_type": "code",
      "source": [
        "# write a program to cheeck if the number is pallindrome or not\n",
        "\n",
        "num = int(input(\"enter a number\"))\n",
        "\n",
        "def isPallindrome(num):\n",
        "  num = str(num)\n",
        "  if num ==num[::-1]:\n",
        "    print(\"is a pallindrome\")\n",
        "  else :\n",
        "    print(\"is not a pallindrome\")\n",
        "\n",
        "isPallindrome(num)\n",
        "\n",
        "'''while (num):\n",
        "  a= num % 10\n",
        "  rev = rev * 10 + a\n",
        "  num = num // 10 '''''\n"
      ],
      "metadata": {
        "colab": {
          "base_uri": "https://localhost:8080/"
        },
        "id": "T1T4CxkJ1YS4",
        "outputId": "15665b83-eeb4-4579-c758-fce932385bf5"
      },
      "execution_count": null,
      "outputs": [
        {
          "output_type": "stream",
          "name": "stdout",
          "text": [
            "enter a number454\n",
            "is a pallindrome\n"
          ]
        }
      ]
    },
    {
      "cell_type": "code",
      "source": [
        "# convert a number from negative to positive\n",
        "num= int(input(\"enter a number\"))\n",
        "\n",
        "if(num <0) :\n",
        "  print(abs(num))\n",
        "\n",
        "else :\n",
        "  print(num)\n"
      ],
      "metadata": {
        "colab": {
          "base_uri": "https://localhost:8080/"
        },
        "id": "6iD_jENG1rYh",
        "outputId": "be109409-f7d6-4e0e-d3ec-bb169cb884f4"
      },
      "execution_count": null,
      "outputs": [
        {
          "output_type": "stream",
          "name": "stdout",
          "text": [
            "enter a number-45\n",
            "45\n"
          ]
        }
      ]
    },
    {
      "cell_type": "code",
      "source": [
        "# write a program to find factorial of a number\n",
        "\n",
        "def fact(num):\n",
        "  return 1 if (num==1 or num==0) else num * fact(num-1)\n",
        "\n",
        "num = int(input(\"enter a number\"))\n",
        "if (num>0):\n",
        "  a=fact(num)\n",
        "  print(a)\n",
        "else:\n",
        "  print(\"invalid\")"
      ],
      "metadata": {
        "colab": {
          "base_uri": "https://localhost:8080/"
        },
        "id": "h3RPTtbQ1rhS",
        "outputId": "0910a4c7-fc95-4efe-de6a-3a7628d26d42"
      },
      "execution_count": null,
      "outputs": [
        {
          "output_type": "stream",
          "name": "stdout",
          "text": [
            "enter a number6\n",
            "720\n"
          ]
        }
      ]
    },
    {
      "cell_type": "code",
      "source": [
        "#write a program to generate a multiplication table of any number\n",
        "\n",
        "num = int(input( \"enter a number\"))\n",
        "\n",
        "for i in range(1, 11,1):\n",
        "  print(num,\"*\", i ,\"=\" , num *i)"
      ],
      "metadata": {
        "colab": {
          "base_uri": "https://localhost:8080/"
        },
        "id": "ConFjTVC1rlA",
        "outputId": "8aec9a10-9c22-4fed-ee7c-0ee1b162e5c8"
      },
      "execution_count": null,
      "outputs": [
        {
          "output_type": "stream",
          "name": "stdout",
          "text": [
            "enter a number4\n",
            "4 * 1 = 4\n",
            "4 * 2 = 8\n",
            "4 * 3 = 12\n",
            "4 * 4 = 16\n",
            "4 * 5 = 20\n",
            "4 * 6 = 24\n",
            "4 * 7 = 28\n",
            "4 * 8 = 32\n",
            "4 * 9 = 36\n",
            "4 * 10 = 40\n"
          ]
        }
      ]
    },
    {
      "cell_type": "code",
      "source": [
        "# is a leap year or not\n",
        "num = int(input( \"enter a number\"))\n",
        "\n",
        "if (num % 4) == 0:\n",
        "  print (num, \"is a leap year\")\n",
        "\n",
        "else :\n",
        "  print (num, \"is not a leap year\")"
      ],
      "metadata": {
        "colab": {
          "base_uri": "https://localhost:8080/"
        },
        "id": "UOaFgaax5AWN",
        "outputId": "eb4906d5-9d09-45e2-aa6c-82ccf39b096d"
      },
      "execution_count": null,
      "outputs": [
        {
          "output_type": "stream",
          "name": "stdout",
          "text": [
            "enter a number2003\n",
            "2003 is not a leap year\n"
          ]
        }
      ]
    },
    {
      "cell_type": "markdown",
      "source": [
        "Day2"
      ],
      "metadata": {
        "id": "RR7cPvPXXfIK"
      }
    },
    {
      "cell_type": "code",
      "source": [
        "#write a python program to find the best of 2 test average marks out of 3 tests marks accepted from the user\n",
        "marks1=int(input())\n",
        "marks2=int(input())\n",
        "marks3=int(input())\n",
        "\n",
        "if marks1>marks2 and marks2>marks3:\n",
        "  print((marks1+marks2)/2)\n",
        "\n",
        "elif marks3>marks1 and marks1>marks2:\n",
        "  print((marks1+marks3)/2)\n",
        "\n",
        "else:\n",
        "  print((marks3+marks2)/2)\n"
      ],
      "metadata": {
        "id": "gK1A5dirXhkp",
        "colab": {
          "base_uri": "https://localhost:8080/"
        },
        "outputId": "c9b4a252-f858-46d9-f1be-24b09b8d0606"
      },
      "execution_count": null,
      "outputs": [
        {
          "output_type": "stream",
          "name": "stdout",
          "text": [
            "34\n",
            "45\n",
            "67\n",
            "56.0\n"
          ]
        }
      ]
    },
    {
      "cell_type": "code",
      "source": [
        "#Develop A PYTHON programe to convert a binary number into a decimal, octal or hexa decimal numbers using functions\n",
        "\n"
      ],
      "metadata": {
        "id": "uakq6DvOXhpV"
      },
      "execution_count": null,
      "outputs": []
    },
    {
      "cell_type": "code",
      "source": [
        "#Define a  function F as Fn =Fn-1 +Fn-2. write a python program which accepts a value for N(for N >0)\n",
        "#as input and pass this value to the function. Display suitable error msg if the condition for input vzlue is not followed"
      ],
      "metadata": {
        "id": "25Kcr-OuXhse"
      },
      "execution_count": null,
      "outputs": []
    },
    {
      "cell_type": "code",
      "source": [
        "#find string similarities between 2 similar strings"
      ],
      "metadata": {
        "id": "I3UYaLgDXh4v"
      },
      "execution_count": null,
      "outputs": []
    },
    {
      "cell_type": "code",
      "source": [
        "#write a Python program that accepts a sentence and finds the number of words, digits, uppercase lettrs and lower case letters"
      ],
      "metadata": {
        "id": "TwSsWTb3Xh7D"
      },
      "execution_count": null,
      "outputs": []
    },
    {
      "cell_type": "code",
      "source": [
        "'''write a program to print the following pattern\n",
        "\n",
        "*\n",
        "* *\n",
        "* * *\n",
        "* * * *\n",
        "* * * * *\n",
        "'''\n",
        "#step one : see the number of rows and apply a loop\n",
        "#step two : see the number of colums and apply a loop\n",
        "#step three : check relationship between rows and columns\n",
        "#step four : print the required character\n",
        "#step five : check for where to print spaces\n",
        "\n",
        "m = int(input(\"enter the number of rows\"))\n",
        "n = int(input(\"enter the number of columns\"))\n",
        "\n",
        "c = input(\"enter the character to be printed\")\n",
        "\n",
        "for i in range(0,m):\n",
        "  for j in range(0,n):\n",
        "    if i >= j:\n",
        "      print (c, end=\" \")\n",
        "  print ()\n"
      ],
      "metadata": {
        "colab": {
          "base_uri": "https://localhost:8080/"
        },
        "id": "e4YaB5BxXh9s",
        "outputId": "2b7d8d84-cecf-477d-a320-eaeedee8a1ca"
      },
      "execution_count": null,
      "outputs": [
        {
          "output_type": "stream",
          "name": "stdout",
          "text": [
            "enter the number of rows9\n",
            "enter the number of columns8\n",
            "enter the character to be printed*\n",
            "* \n",
            "* * \n",
            "* * * \n",
            "* * * * \n",
            "* * * * * \n",
            "* * * * * * \n",
            "* * * * * * * \n",
            "* * * * * * * * \n",
            "* * * * * * * * \n"
          ]
        }
      ]
    },
    {
      "cell_type": "code",
      "source": [
        "'''write a program to print the following pattern\n",
        "\n",
        "        *\n",
        "      * *\n",
        "    * * *\n",
        "  * * * *\n",
        "* * * * *\n",
        "'''\n",
        "m = int(input(\"enter the number of rows and columns \"))\n",
        "\n",
        "c = input(\"enter the character to be printed\")\n",
        "\n",
        "for i in range(m):\n",
        "  for j in range(m):\n",
        "    if i+j >= m-1:\n",
        "      print(c, end=\" \")\n",
        "    else:\n",
        "      print(\" \", end =\" \")\n",
        "  print()\n",
        "\n"
      ],
      "metadata": {
        "colab": {
          "base_uri": "https://localhost:8080/"
        },
        "id": "-twk5MFvXiAR",
        "outputId": "548643d6-b80f-42b7-f27f-d892b435a210"
      },
      "execution_count": null,
      "outputs": [
        {
          "output_type": "stream",
          "name": "stdout",
          "text": [
            "enter the number of rows and columns 5\n",
            "enter the character to be printed*\n",
            "        * \n",
            "      * * \n",
            "    * * * \n",
            "  * * * * \n",
            "* * * * * \n"
          ]
        }
      ]
    },
    {
      "cell_type": "code",
      "source": [
        "'''write a program to print the following pattern\n",
        "* * * * *\n",
        "  * * * *\n",
        "    * * *\n",
        "      * *\n",
        "        *\n",
        "'''\n",
        "m = int(input(\"enter the number of rows and columns \"))\n",
        "\n",
        "c = input(\"enter the character to be printed\")\n",
        "\n",
        "for i in range(m):\n",
        "  for j in range(m):\n",
        "    if j>=i :\n",
        "      print(c,end=\" \")\n",
        "    else:\n",
        "      print(\" \", end=\" \")\n",
        "  print()"
      ],
      "metadata": {
        "colab": {
          "base_uri": "https://localhost:8080/"
        },
        "id": "DDMtDftMaxhA",
        "outputId": "3142ab72-296d-46ca-f241-ddeb94a60938"
      },
      "execution_count": null,
      "outputs": [
        {
          "output_type": "stream",
          "name": "stdout",
          "text": [
            "enter the number of rows and columns 5\n",
            "enter the character to be printed*\n",
            "* * * * * \n",
            "  * * * * \n",
            "    * * * \n",
            "      * * \n",
            "        * \n"
          ]
        }
      ]
    },
    {
      "cell_type": "code",
      "source": [
        "'''write a program to print the following pattern\n",
        "* * * * *\n",
        "* * * *\n",
        "* * *\n",
        "* *\n",
        "*\n",
        "'''\n",
        "m = int(input(\"enter the number of rows and columns \"))\n",
        "\n",
        "\n",
        "c = input(\"enter the character to be printed\")\n",
        "\n",
        "for i in range(0,m):\n",
        "  for j in range(0,m):\n",
        "    if i+j <= m-1:\n",
        "      print (c, end=\" \")\n",
        "  print ()\n"
      ],
      "metadata": {
        "colab": {
          "base_uri": "https://localhost:8080/"
        },
        "id": "SHwFhmNLXiCv",
        "outputId": "683b1292-fbe5-4f71-bfa8-dfd333f48ceb"
      },
      "execution_count": null,
      "outputs": [
        {
          "output_type": "stream",
          "name": "stdout",
          "text": [
            "enter the number of rows and columns 5\n",
            "enter the character to be printed*\n",
            "* * * * * \n",
            "* * * * \n",
            "* * * \n",
            "* * \n",
            "* \n"
          ]
        }
      ]
    },
    {
      "cell_type": "code",
      "source": [
        "'''write a program to print the following pattern\n",
        "* * * * *\n",
        "* * * * *\n",
        "* * * * *\n",
        "* * * * *\n",
        "* * * * *\n",
        "'''\n",
        "#step one : see the number of rows and apply a loop\n",
        "#step two : see the number of colums and apply a loop\n",
        "#step three : check relationship between rows and columns\n",
        "#step four : print the required character\n",
        "#step five : check for where to print spaces\n",
        "\n",
        "m = int(input(\"enter the number of rows\"))\n",
        "n = int(input(\"enter the number of columns\"))\n",
        "\n",
        "c = input(\"enter the character to be printed\")\n",
        "\n",
        "for i in range (0,m):\n",
        "  for j in range (0,n):\n",
        "    print (c ,end =\" \")\n",
        "  print()"
      ],
      "metadata": {
        "colab": {
          "base_uri": "https://localhost:8080/"
        },
        "id": "bywrW8ZbXiFM",
        "outputId": "d509974e-60b9-465e-a295-81e5f1dd57f8"
      },
      "execution_count": null,
      "outputs": [
        {
          "output_type": "stream",
          "name": "stdout",
          "text": [
            "enter the number of rows7\n",
            "enter the number of columns5\n",
            "enter the character to be printed*\n",
            "* * * * * \n",
            "* * * * * \n",
            "* * * * * \n",
            "* * * * * \n",
            "* * * * * \n",
            "* * * * * \n",
            "* * * * * \n"
          ]
        }
      ]
    },
    {
      "cell_type": "code",
      "source": [
        "'''write a program to print the following pattern\n",
        "1\n",
        "1 2\n",
        "1 2 3\n",
        "1 2 3 4\n",
        "1 2 3 4 5\n",
        "'''\n",
        "\n",
        "m = int(input(\"enter the number of rows and columns \"))\n",
        "\n",
        "\n",
        "\n",
        "\n",
        "for i in range(1,m+1):\n",
        "  for j in range(1,m+1):\n",
        "    if i >= j:\n",
        "      print (j, end=\" \")\n",
        "  print ()"
      ],
      "metadata": {
        "colab": {
          "base_uri": "https://localhost:8080/"
        },
        "id": "4ItcySdMbQeh",
        "outputId": "8fb4bd0c-4a7b-46b8-e4a2-840ab5e15380"
      },
      "execution_count": null,
      "outputs": [
        {
          "output_type": "stream",
          "name": "stdout",
          "text": [
            "enter the number of rows and columns 10\n",
            "1 \n",
            "1 2 \n",
            "1 2 3 \n",
            "1 2 3 4 \n",
            "1 2 3 4 5 \n",
            "1 2 3 4 5 6 \n",
            "1 2 3 4 5 6 7 \n",
            "1 2 3 4 5 6 7 8 \n",
            "1 2 3 4 5 6 7 8 9 \n",
            "1 2 3 4 5 6 7 8 9 10 \n"
          ]
        }
      ]
    },
    {
      "cell_type": "code",
      "source": [
        "'''write a program to print the following pattern\n",
        "1\n",
        "2 2\n",
        "3 3 3\n",
        "4 4 4 4\n",
        "5 5 5 5 5\n",
        "'''\n",
        "#the number of rows and columns should be equal\n",
        "\n",
        "\n",
        "m = int(input(\"enter the number of rows and columns \"))\n",
        "\n",
        "\n",
        "\n",
        "\n",
        "for i in range(1,m+1):\n",
        "  for j in range(1,m+1):\n",
        "    if i >= j:\n",
        "      print (i, end=\" \")\n",
        "  print ()"
      ],
      "metadata": {
        "colab": {
          "base_uri": "https://localhost:8080/"
        },
        "id": "ADi2zQz9bYAE",
        "outputId": "fdeae424-b4f1-4bc1-dd6a-f52f9028018c"
      },
      "execution_count": null,
      "outputs": [
        {
          "output_type": "stream",
          "name": "stdout",
          "text": [
            "enter the number of rows and columns 4\n",
            "1 \n",
            "2 2 \n",
            "3 3 3 \n",
            "4 4 4 4 \n"
          ]
        }
      ]
    },
    {
      "cell_type": "code",
      "source": [
        "'''write a program to print the following pattern\n",
        "\n",
        "* * * * *\n",
        "*       *\n",
        "*       *\n",
        "*       *\n",
        "* * * * *\n",
        "\n",
        "'''\n",
        "m = int(input(\"enter the number of rows and columns \"))\n",
        "\n",
        "c = input(\"enter the character to be printed\")\n",
        "\n",
        "for i in range(m):\n",
        "  for j in range(m):\n",
        "    if i == 0 or i == m-1 or j == 0 or j == m-1:\n",
        "      print(c,end=\" \")\n",
        "\n",
        "    else :\n",
        "      print(\" \",end=\" \")\n",
        "\n",
        "  print()"
      ],
      "metadata": {
        "colab": {
          "base_uri": "https://localhost:8080/"
        },
        "id": "NMXuetxabb3d",
        "outputId": "7f0b08d2-60d1-498f-df96-b84a5d574fff"
      },
      "execution_count": null,
      "outputs": [
        {
          "output_type": "stream",
          "name": "stdout",
          "text": [
            "enter the number of rows and columns 7\n",
            "enter the character to be printed*\n",
            "* * * * * * * \n",
            "*           * \n",
            "*           * \n",
            "*           * \n",
            "*           * \n",
            "*           * \n",
            "* * * * * * * \n"
          ]
        }
      ]
    },
    {
      "cell_type": "code",
      "source": [
        "'''write a program to print the following pattern\n",
        "\n",
        "* * * * *\n",
        "* *   * *\n",
        "*   *   *\n",
        "* *   * *\n",
        "* * * * *\n",
        "\n",
        "'''\n",
        "\n",
        "n = int(input(\"enter the number of rows and columns : \"))\n",
        "\n",
        "for i in range(n):\n",
        "  for j in range(n):\n",
        "    if i==0 or i==n-1 or j==0 or j==n-1 or i==j or i+j==n-1:\n",
        "      print(\"*\",end=\" \")\n",
        "    else:\n",
        "      print(\" \",end=\" \")\n",
        "\n",
        "  print()\n"
      ],
      "metadata": {
        "id": "45ErCuLmbygp",
        "colab": {
          "base_uri": "https://localhost:8080/"
        },
        "outputId": "81cf8fa7-1edc-449e-cf37-1e3e132adc76"
      },
      "execution_count": null,
      "outputs": [
        {
          "output_type": "stream",
          "name": "stdout",
          "text": [
            "enter the number of rows and columns : 5\n",
            "* * * * * \n",
            "* *   * * \n",
            "*   *   * \n",
            "* *   * * \n",
            "* * * * * \n"
          ]
        }
      ]
    },
    {
      "cell_type": "code",
      "source": [
        "'''write a program to print the following pattern\n",
        "\n",
        "1  2  3   4\n",
        "5  6  7   8\n",
        "9  10 11 12\n",
        "13 14 15 16\n",
        "\n",
        "'''\n",
        "n = int(input(\"enter the number of rows and columns: \"))\n",
        "k=1\n",
        "\n",
        "for i in range(1,n+1):\n",
        "  for j in range(1,n+1):\n",
        "    print(k,end=\" \")\n",
        "    k+=1\n",
        "  print()"
      ],
      "metadata": {
        "id": "D6UBotQOcGkA",
        "colab": {
          "base_uri": "https://localhost:8080/"
        },
        "outputId": "37defb93-ea21-4d0d-ae55-9b722f6f7856"
      },
      "execution_count": null,
      "outputs": [
        {
          "output_type": "stream",
          "name": "stdout",
          "text": [
            "enter the number of rows and columns: 4\n",
            "1 2 3 4 \n",
            "5 6 7 8 \n",
            "9 10 11 12 \n",
            "13 14 15 16 \n"
          ]
        }
      ]
    },
    {
      "cell_type": "code",
      "source": [
        "'''write a program to print the following pattern\n",
        "\n",
        "take the user input for what character is to be printed\n",
        "\n",
        "A A A A A\n",
        "A A A A A\n",
        "A A A A A\n",
        "A A A A A\n",
        "A A A A A\n",
        "'''\n",
        "\n",
        "m = int(input(\"enter the number of rows: \"))\n",
        "n = int(input(\"enter the number of columns: \"))\n",
        "\n",
        "c = input(\"enter the character to be printed: \")\n",
        "\n",
        "for i in range(0,m):\n",
        "  for j in range(0,n):\n",
        "    print(c,end=\" \")\n",
        "\n",
        "  print()\n",
        "\n"
      ],
      "metadata": {
        "colab": {
          "base_uri": "https://localhost:8080/"
        },
        "id": "DmpPC1JucSmT",
        "outputId": "681c631b-2bc1-4132-9793-540308ece8f5"
      },
      "execution_count": null,
      "outputs": [
        {
          "output_type": "stream",
          "name": "stdout",
          "text": [
            "enter the number of rows: 5\n",
            "enter the number of columns: 3\n",
            "enter the character to be printed: @\n",
            "@ @ @ \n",
            "@ @ @ \n",
            "@ @ @ \n",
            "@ @ @ \n",
            "@ @ @ \n"
          ]
        }
      ]
    },
    {
      "cell_type": "code",
      "source": [
        "# wap to read a string from user and implement the logic to remove the\n",
        "# characters which are at the odd numbers of the index\n",
        "\n",
        "s = input(\"enter the string: \")\n",
        "a = \" \"\n",
        "\n",
        "for i in range(0,len(s)):\n",
        "  if i % 2 == 0:\n",
        "    a=a+s[i]\n",
        "\n",
        "print(a)\n",
        "\n",
        "#WORKS IN VS CODE\n"
      ],
      "metadata": {
        "id": "N50VIOOg-dKU",
        "colab": {
          "base_uri": "https://localhost:8080/",
          "height": 224
        },
        "outputId": "7f1110ac-c32a-4747-c29a-900a84432047"
      },
      "execution_count": null,
      "outputs": [
        {
          "name": "stdout",
          "output_type": "stream",
          "text": [
            "enter the string: water\n"
          ]
        },
        {
          "output_type": "error",
          "ename": "TypeError",
          "evalue": "'int' object is not callable",
          "traceback": [
            "\u001b[0;31m---------------------------------------------------------------------------\u001b[0m",
            "\u001b[0;31mTypeError\u001b[0m                                 Traceback (most recent call last)",
            "\u001b[0;32m<ipython-input-24-2ba22363e1ec>\u001b[0m in \u001b[0;36m<cell line: 7>\u001b[0;34m()\u001b[0m\n\u001b[1;32m      5\u001b[0m \u001b[0ma\u001b[0m \u001b[0;34m=\u001b[0m \u001b[0;34m\" \"\u001b[0m\u001b[0;34m\u001b[0m\u001b[0;34m\u001b[0m\u001b[0m\n\u001b[1;32m      6\u001b[0m \u001b[0;34m\u001b[0m\u001b[0m\n\u001b[0;32m----> 7\u001b[0;31m \u001b[0;32mfor\u001b[0m \u001b[0mi\u001b[0m \u001b[0;32min\u001b[0m \u001b[0mrange\u001b[0m\u001b[0;34m(\u001b[0m\u001b[0;36m0\u001b[0m\u001b[0;34m,\u001b[0m\u001b[0mlen\u001b[0m\u001b[0;34m(\u001b[0m\u001b[0ms\u001b[0m\u001b[0;34m)\u001b[0m\u001b[0;34m)\u001b[0m\u001b[0;34m:\u001b[0m\u001b[0;34m\u001b[0m\u001b[0;34m\u001b[0m\u001b[0m\n\u001b[0m\u001b[1;32m      8\u001b[0m   \u001b[0;32mif\u001b[0m \u001b[0mi\u001b[0m \u001b[0;34m%\u001b[0m \u001b[0;36m2\u001b[0m \u001b[0;34m==\u001b[0m \u001b[0;36m0\u001b[0m\u001b[0;34m:\u001b[0m\u001b[0;34m\u001b[0m\u001b[0;34m\u001b[0m\u001b[0m\n\u001b[1;32m      9\u001b[0m     \u001b[0ma\u001b[0m\u001b[0;34m=\u001b[0m\u001b[0ma\u001b[0m\u001b[0;34m+\u001b[0m\u001b[0ms\u001b[0m\u001b[0;34m[\u001b[0m\u001b[0mi\u001b[0m\u001b[0;34m]\u001b[0m\u001b[0;34m\u001b[0m\u001b[0;34m\u001b[0m\u001b[0m\n",
            "\u001b[0;31mTypeError\u001b[0m: 'int' object is not callable"
          ]
        }
      ]
    },
    {
      "cell_type": "code",
      "source": [
        "#wap to swap 2 numbers using a 3rd variable\n",
        "\n",
        "a=int(input())\n",
        "b= int(input())\n",
        "\n",
        "temp=a\n",
        "a=b\n",
        "b=temp\n",
        "\n",
        "print(a)\n",
        "print(b)\n"
      ],
      "metadata": {
        "colab": {
          "base_uri": "https://localhost:8080/"
        },
        "id": "sGk9WZbDJAjh",
        "outputId": "e4dc9a6b-6344-4db2-d68c-c61da1161e67"
      },
      "execution_count": null,
      "outputs": [
        {
          "output_type": "stream",
          "name": "stdout",
          "text": [
            "2\n",
            "3\n",
            "3\n",
            "2\n"
          ]
        }
      ]
    },
    {
      "cell_type": "code",
      "source": [
        "#swap 2 numbers without using 3rd variable\n",
        "\n",
        "a=int(input())\n",
        "b= int(input())\n",
        "\n",
        "a= a+b\n",
        "b= a-b\n",
        "a=a-b\n",
        "\n",
        "print(a)\n",
        "print(b)"
      ],
      "metadata": {
        "id": "CD-IaM5gJAry",
        "colab": {
          "base_uri": "https://localhost:8080/"
        },
        "outputId": "4d36ead6-22b6-46e6-c5b2-903d9f25c9a6"
      },
      "execution_count": null,
      "outputs": [
        {
          "output_type": "stream",
          "name": "stdout",
          "text": [
            "10\n",
            "30\n",
            "30\n",
            "10\n"
          ]
        }
      ]
    },
    {
      "cell_type": "code",
      "source": [],
      "metadata": {
        "id": "RW3l3hFdJAun"
      },
      "execution_count": null,
      "outputs": []
    },
    {
      "cell_type": "code",
      "source": [],
      "metadata": {
        "id": "BfgJNgyVJAxv"
      },
      "execution_count": null,
      "outputs": []
    },
    {
      "cell_type": "code",
      "source": [],
      "metadata": {
        "id": "Z1yHoCngJA0J"
      },
      "execution_count": null,
      "outputs": []
    }
  ]
}