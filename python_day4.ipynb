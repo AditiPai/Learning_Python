{
  "nbformat": 4,
  "nbformat_minor": 0,
  "metadata": {
    "colab": {
      "provenance": [],
      "authorship_tag": "ABX9TyPt5H4qwboI/7hTm/cEdqUJ",
      "include_colab_link": true
    },
    "kernelspec": {
      "name": "python3",
      "display_name": "Python 3"
    },
    "language_info": {
      "name": "python"
    }
  },
  "cells": [
    {
      "cell_type": "markdown",
      "metadata": {
        "id": "view-in-github",
        "colab_type": "text"
      },
      "source": [
        "<a href=\"https://colab.research.google.com/github/AditiPai/Learning_Python/blob/main/python_day4.ipynb\" target=\"_parent\"><img src=\"https://colab.research.google.com/assets/colab-badge.svg\" alt=\"Open In Colab\"/></a>"
      ]
    },
    {
      "cell_type": "code",
      "execution_count": null,
      "metadata": {
        "colab": {
          "base_uri": "https://localhost:8080/"
        },
        "id": "GqnVNTDWZXXu",
        "outputId": "2a41ae9b-83a6-4210-f39b-c73448a61656"
      },
      "outputs": [
        {
          "output_type": "stream",
          "name": "stdout",
          "text": [
            "tuple1:  (1, 2, 3, 4, 5)\n",
            "first element of 2nd:  a\n",
            "apple\n",
            "banana\n",
            "cherry\n",
            "apple\n",
            "banana\n",
            "['cherry', 'strawberry', 'raspberry']\n",
            "tuple1 (1, 2, 3, 4, 5, 6)\n",
            "tuple2 ('a', 'b', 'd', 'e')\n",
            "looping using for 1 : \n",
            "1\n",
            "2\n",
            "3\n",
            "4\n",
            "5\n",
            "6\n",
            "looping using for 2 : \n",
            "1\n",
            "2\n",
            "3\n",
            "4\n",
            "5\n",
            "6\n",
            "looping using while: \n",
            "1\n",
            "2\n",
            "3\n",
            "4\n",
            "5\n",
            "6\n",
            "(1, 2, 3, 4, 5, 6, 'a', 'b', 'd', 'e')\n"
          ]
        }
      ],
      "source": [
        "#TUPLES\n",
        "\n",
        "def create_tuples():\n",
        "  tup1 = (1,2,3,4,5)\n",
        "  tup2 = ('a','b','c','d','e')\n",
        "  tup3 = (\"apple\", \"banana\",\"cherry\")\n",
        "\n",
        "  return tup1,tup2,tup3\n",
        "\n",
        "def access_tuples(tup1,tup2):\n",
        "\n",
        "  print(\"tuple1: \", tup1)\n",
        "  print(\"first element of 2nd: \",tup2[0])\n",
        "\n",
        "def unpacking_tuple1(tup3):\n",
        "\n",
        "  (green, yellow, red) = tup3\n",
        "  print(green)\n",
        "  print(yellow)\n",
        "  print(red)\n",
        "\n",
        "def unpacking_tuple2(tup3):\n",
        "  fruits = (\"apple\", \"banana\", \"cherry\", \"strawberry\", \"raspberry\")\n",
        "\n",
        "  (green, yellow, *red) = fruits\n",
        "\n",
        "  print(green)\n",
        "  print(yellow)\n",
        "  print(red)\n",
        "\n",
        "\n",
        "def change_tuple(tup1,tup2):\n",
        "  list1 = list(tup1)\n",
        "  list2 = list(tup2)\n",
        "  list1.append(6)\n",
        "  list2.remove('c')\n",
        "  tup1=tuple(list1)\n",
        "  tup2=tuple(list2)\n",
        "  print(\"tuple1\",tup1)\n",
        "  print(\"tuple2\",tup2)\n",
        "  return tup1,tup2\n",
        "\n",
        "def loop_through_tuple(tup1):\n",
        "  print(\"looping using for 1 : \")\n",
        "  for x in tup1:\n",
        "    print(x)\n",
        "\n",
        "  print(\"looping using for 2 : \")\n",
        "  for i in range(len(tup1)):\n",
        "    print(tup1[i])\n",
        "\n",
        "  print(\"looping using while: \")\n",
        "  i=0\n",
        "  while i<len(tup1):\n",
        "    print(tup1[i])\n",
        "    i +=1\n",
        "\n",
        "def join_tuples(tup1,tup2):\n",
        "  tuple3 = tup1+tup2\n",
        "  return tuple3\n",
        "\n",
        "tuple1,tuple2,tuple3 = create_tuples()\n",
        "access_tuples(tuple1,tuple2)\n",
        "\n",
        "unpacking_tuple1(tuple3)\n",
        "unpacking_tuple2(tuple3)\n",
        "\n",
        "tuple1,tuple2 = change_tuple(tuple1,tuple2)\n",
        "\n",
        "loop_through_tuple(tuple1)\n",
        "\n",
        "tuple3 = join_tuples(tuple1,tuple2)\n",
        "print(tuple3)\n"
      ]
    },
    {
      "cell_type": "code",
      "source": [
        "string_tuple = tuple(\"hello\")\n",
        "print(string_tuple)\n",
        "\n",
        "list_tuple = tuple([\"apple\",\"banana\",\"cherry\"])\n",
        "print(list_tuple)\n"
      ],
      "metadata": {
        "id": "Jlx7AvSvs73k",
        "colab": {
          "base_uri": "https://localhost:8080/"
        },
        "outputId": "29c1e8a2-784a-48b1-8a4d-538a37238982"
      },
      "execution_count": null,
      "outputs": [
        {
          "output_type": "stream",
          "name": "stdout",
          "text": [
            "('h', 'e', 'l', 'l', 'o')\n",
            "('apple', 'banana', 'cherry')\n"
          ]
        }
      ]
    },
    {
      "cell_type": "code",
      "source": [
        "tuple_of_integers = (5,2,8,1,3)\n",
        "sorted_tuple = tuple(sorted(tuple_of_integers))\n",
        "print(sorted_tuple)\n",
        "print(tuple(tuple_of_integers.sort()))\n",
        "\n",
        "\n",
        "#sort functions sorts the original tuple which is not possible but sorted function creates another list"
      ],
      "metadata": {
        "colab": {
          "base_uri": "https://localhost:8080/",
          "height": 224
        },
        "id": "S_77VOP5_gAV",
        "outputId": "0359cf46-774b-44e6-fbbd-05a487f32a53"
      },
      "execution_count": null,
      "outputs": [
        {
          "output_type": "stream",
          "name": "stdout",
          "text": [
            "(1, 2, 3, 5, 8)\n"
          ]
        },
        {
          "output_type": "error",
          "ename": "AttributeError",
          "evalue": "'tuple' object has no attribute 'sort'",
          "traceback": [
            "\u001b[0;31m---------------------------------------------------------------------------\u001b[0m",
            "\u001b[0;31mAttributeError\u001b[0m                            Traceback (most recent call last)",
            "\u001b[0;32m<ipython-input-29-375c125f1900>\u001b[0m in \u001b[0;36m<cell line: 4>\u001b[0;34m()\u001b[0m\n\u001b[1;32m      2\u001b[0m \u001b[0msorted_tuple\u001b[0m \u001b[0;34m=\u001b[0m \u001b[0mtuple\u001b[0m\u001b[0;34m(\u001b[0m\u001b[0msorted\u001b[0m\u001b[0;34m(\u001b[0m\u001b[0mtuple_of_integers\u001b[0m\u001b[0;34m)\u001b[0m\u001b[0;34m)\u001b[0m\u001b[0;34m\u001b[0m\u001b[0;34m\u001b[0m\u001b[0m\n\u001b[1;32m      3\u001b[0m \u001b[0mprint\u001b[0m\u001b[0;34m(\u001b[0m\u001b[0msorted_tuple\u001b[0m\u001b[0;34m)\u001b[0m\u001b[0;34m\u001b[0m\u001b[0;34m\u001b[0m\u001b[0m\n\u001b[0;32m----> 4\u001b[0;31m \u001b[0mprint\u001b[0m\u001b[0;34m(\u001b[0m\u001b[0mtuple\u001b[0m\u001b[0;34m(\u001b[0m\u001b[0mtuple_of_integers\u001b[0m\u001b[0;34m.\u001b[0m\u001b[0msort\u001b[0m\u001b[0;34m(\u001b[0m\u001b[0;34m)\u001b[0m\u001b[0;34m)\u001b[0m\u001b[0;34m)\u001b[0m\u001b[0;34m\u001b[0m\u001b[0;34m\u001b[0m\u001b[0m\n\u001b[0m\u001b[1;32m      5\u001b[0m \u001b[0;34m\u001b[0m\u001b[0m\n\u001b[1;32m      6\u001b[0m \u001b[0;34m\u001b[0m\u001b[0m\n",
            "\u001b[0;31mAttributeError\u001b[0m: 'tuple' object has no attribute 'sort'"
          ]
        }
      ]
    },
    {
      "cell_type": "code",
      "source": [
        "tuple= ((1, \"apple\"),(3,\"orange\"),(2,\"banana\"))\n",
        "sort = sorted(tuple, key=lambda x:x[1])\n",
        "print(sort)\n"
      ],
      "metadata": {
        "colab": {
          "base_uri": "https://localhost:8080/"
        },
        "id": "voUtIG0hATH7",
        "outputId": "d588bfcc-c525-446d-ea67-5d0e2f20956e"
      },
      "execution_count": null,
      "outputs": [
        {
          "output_type": "stream",
          "name": "stdout",
          "text": [
            "[(1, 'apple'), (2, 'banana'), (3, 'orange')]\n"
          ]
        }
      ]
    },
    {
      "cell_type": "code",
      "source": [
        "s = tuple( x** 2 for x in range(1,10))\n",
        "print(s)\n",
        "\n",
        "#output in vs code (1, 4, 9, 16, 25, 36, 49, 64, 81)"
      ],
      "metadata": {
        "id": "GLNT2h6YCMOc"
      },
      "execution_count": null,
      "outputs": []
    },
    {
      "cell_type": "code",
      "source": [
        "#zipped tuple\n",
        "\n",
        "l1 = [1,2,3]\n",
        "l2 = ['a','b','c']\n",
        "\n",
        "zipped = zip(l1,l2)\n",
        "print(list(zipped))"
      ],
      "metadata": {
        "colab": {
          "base_uri": "https://localhost:8080/"
        },
        "id": "_9DNgv9rDxKm",
        "outputId": "05cfc9fd-0bdf-4c28-be90-0714820cd4a7"
      },
      "execution_count": null,
      "outputs": [
        {
          "output_type": "stream",
          "name": "stdout",
          "text": [
            "[(1, 'a'), (2, 'b'), (3, 'c')]\n"
          ]
        }
      ]
    },
    {
      "cell_type": "code",
      "source": [
        "#named tuple is a pakage in collections\n",
        "#naming a tuple\n",
        "\n",
        "from collections import namedtuple\n",
        "import math\n",
        "\n",
        "#define a named tuple for coordinates\n",
        "point = namedtuple('point',['x','y'])\n",
        "\n",
        "#create 2 points\n",
        "point1 = point(1,2)\n",
        "point2 = point(3,4)\n",
        "\n",
        "#calculate distance between points\n",
        "distance = math.sqrt((point1.x - point2.x)**2 + (point1.y - point2.y)**2)\n",
        "print(distance)"
      ],
      "metadata": {
        "colab": {
          "base_uri": "https://localhost:8080/"
        },
        "id": "TnjI6fgJEUkR",
        "outputId": "54b0f3fb-23f0-4ebd-856c-d72ca7579615"
      },
      "execution_count": null,
      "outputs": [
        {
          "output_type": "stream",
          "name": "stdout",
          "text": [
            "2.8284271247461903\n"
          ]
        }
      ]
    },
    {
      "cell_type": "code",
      "source": [
        "original_tup = (1,2,3,4,5)\n",
        "filtered = tuple(filter(lambda x: x%2 ==0,original_tup))\n",
        "print(filtered)\n",
        "\n",
        "from functools import reduce\n",
        "\n",
        "def add(x,y):\n",
        "  return x+y\n",
        "\n",
        "reduced = reduce (add, original_tup)\n",
        "print(reduced)"
      ],
      "metadata": {
        "colab": {
          "base_uri": "https://localhost:8080/"
        },
        "id": "BUTBY5Y1JXS_",
        "outputId": "fdb65a87-9dd7-48f6-b23b-77f949e9b335"
      },
      "execution_count": null,
      "outputs": [
        {
          "output_type": "stream",
          "name": "stdout",
          "text": [
            "(2, 4)\n",
            "15\n"
          ]
        }
      ]
    },
    {
      "cell_type": "code",
      "source": [
        "s={10, 20, 30,0, True,False}\n",
        "print(s)"
      ],
      "metadata": {
        "colab": {
          "base_uri": "https://localhost:8080/"
        },
        "id": "nFL2KRMFJX6s",
        "outputId": "75224574-f4c6-4920-a12f-d540de96c947"
      },
      "execution_count": null,
      "outputs": [
        {
          "output_type": "stream",
          "name": "stdout",
          "text": [
            "{0, True, 20, 10, 30}\n"
          ]
        }
      ]
    },
    {
      "cell_type": "code",
      "source": [
        "#SET\n",
        "\n",
        "thisset = {\"apple\", \"banana\", \"cherry\"}\n",
        "print(thisset)\n",
        "\n",
        "thisset.add(\"orange\")\n",
        "print(thisset)"
      ],
      "metadata": {
        "colab": {
          "base_uri": "https://localhost:8080/"
        },
        "id": "ZxUqidVXefjB",
        "outputId": "f6b2154a-45b9-49b9-bc4e-53a6041cafc3"
      },
      "execution_count": null,
      "outputs": [
        {
          "output_type": "stream",
          "name": "stdout",
          "text": [
            "{'cherry', 'apple', 'banana'}\n",
            "{'cherry', 'orange', 'apple', 'banana'}\n"
          ]
        }
      ]
    },
    {
      "cell_type": "code",
      "source": [
        "thisset = {\"apple\", \"banana\", \"cherry\"}\n",
        "tropical = {\"pineapple\", \"mango\", \"papaya\"}\n",
        "\n",
        "thisset.update(tropical)\n",
        "\n",
        "print(thisset)"
      ],
      "metadata": {
        "colab": {
          "base_uri": "https://localhost:8080/"
        },
        "id": "PTIEcrCteiWG",
        "outputId": "c414295f-dd3b-4bd1-80d9-a3bcae5f67a9"
      },
      "execution_count": null,
      "outputs": [
        {
          "output_type": "stream",
          "name": "stdout",
          "text": [
            "{'pineapple', 'banana', 'papaya', 'mango', 'cherry', 'apple'}\n"
          ]
        }
      ]
    },
    {
      "cell_type": "code",
      "source": [
        "thisset = {\"apple\", \"banana\", \"cherry\"}\n",
        "\n",
        "thisset.remove(\"banana\")\n",
        "\n",
        "print(thisset)"
      ],
      "metadata": {
        "colab": {
          "base_uri": "https://localhost:8080/"
        },
        "id": "LqzURMTCk943",
        "outputId": "1170e3cb-d547-4201-999d-d2f4af995008"
      },
      "execution_count": null,
      "outputs": [
        {
          "output_type": "stream",
          "name": "stdout",
          "text": [
            "{'cherry', 'apple'}\n"
          ]
        }
      ]
    },
    {
      "cell_type": "code",
      "source": [
        "thisset = {\"apple\", \"banana\", \"cherry\"}\n",
        "\n",
        "thisset.discard(\"banana\")\n",
        "\n",
        "print(thisset)"
      ],
      "metadata": {
        "colab": {
          "base_uri": "https://localhost:8080/"
        },
        "id": "SGSZBxuAmduZ",
        "outputId": "5688e253-479e-42b3-e66b-fa959f1940e4"
      },
      "execution_count": null,
      "outputs": [
        {
          "output_type": "stream",
          "name": "stdout",
          "text": [
            "{'cherry', 'apple'}\n"
          ]
        }
      ]
    },
    {
      "cell_type": "code",
      "source": [
        "thisset = {\"apple\", \"banana\", \"cherry\"}\n",
        "\n",
        "thisset.clear()\n",
        "\n",
        "print(thisset)"
      ],
      "metadata": {
        "colab": {
          "base_uri": "https://localhost:8080/"
        },
        "id": "CTjC96eumhuG",
        "outputId": "fe88abe2-2fee-48a3-872e-3c2799f6747a"
      },
      "execution_count": null,
      "outputs": [
        {
          "output_type": "stream",
          "name": "stdout",
          "text": [
            "set()\n"
          ]
        }
      ]
    },
    {
      "cell_type": "code",
      "source": [
        "thisset = {\"apple\", \"banana\", \"cherry\"}\n",
        "\n",
        "del thisset\n",
        "\n",
        "print(thisset)"
      ],
      "metadata": {
        "colab": {
          "base_uri": "https://localhost:8080/",
          "height": 173
        },
        "id": "41GQKqt_nQXY",
        "outputId": "3da11e1c-2aa8-4f48-d8fd-1704b7872ad5"
      },
      "execution_count": null,
      "outputs": [
        {
          "output_type": "error",
          "ename": "NameError",
          "evalue": "name 'thisset' is not defined",
          "traceback": [
            "\u001b[0;31m---------------------------------------------------------------------------\u001b[0m",
            "\u001b[0;31mNameError\u001b[0m                                 Traceback (most recent call last)",
            "\u001b[0;32m<ipython-input-15-b0ed94c1bb6f>\u001b[0m in \u001b[0;36m<cell line: 5>\u001b[0;34m()\u001b[0m\n\u001b[1;32m      3\u001b[0m \u001b[0;32mdel\u001b[0m \u001b[0mthisset\u001b[0m\u001b[0;34m\u001b[0m\u001b[0;34m\u001b[0m\u001b[0m\n\u001b[1;32m      4\u001b[0m \u001b[0;34m\u001b[0m\u001b[0m\n\u001b[0;32m----> 5\u001b[0;31m \u001b[0mprint\u001b[0m\u001b[0;34m(\u001b[0m\u001b[0mthisset\u001b[0m\u001b[0;34m)\u001b[0m\u001b[0;34m\u001b[0m\u001b[0;34m\u001b[0m\u001b[0m\n\u001b[0m",
            "\u001b[0;31mNameError\u001b[0m: name 'thisset' is not defined"
          ]
        }
      ]
    },
    {
      "cell_type": "code",
      "source": [
        "#union\n",
        "set1 = {\"a\", \"b\", \"c\"}\n",
        "set2 = {1, 2, 3}\n",
        "\n",
        "set3 = set1.union(set2)\n",
        "print(set3)"
      ],
      "metadata": {
        "colab": {
          "base_uri": "https://localhost:8080/"
        },
        "id": "RFnwKkM-nQad",
        "outputId": "16006448-fa4f-4ffe-d493-e6d66909f0d6"
      },
      "execution_count": null,
      "outputs": [
        {
          "output_type": "stream",
          "name": "stdout",
          "text": [
            "{'b', 1, 2, 3, 'a', 'c'}\n"
          ]
        }
      ]
    },
    {
      "cell_type": "code",
      "source": [
        "set1 = {\"a\", \"b\", \"c\"}\n",
        "set2 = {1, 2, 3}\n",
        "\n",
        "set3 = set1 | set2\n",
        "print(set3)"
      ],
      "metadata": {
        "colab": {
          "base_uri": "https://localhost:8080/"
        },
        "id": "SreRqxxOnQg9",
        "outputId": "d3c54837-9363-4a1e-8ae6-2f7d3884f4f8"
      },
      "execution_count": null,
      "outputs": [
        {
          "output_type": "stream",
          "name": "stdout",
          "text": [
            "{'b', 1, 2, 3, 'a', 'c'}\n"
          ]
        }
      ]
    },
    {
      "cell_type": "code",
      "source": [
        "#intersection\n",
        "set1 = {\"apple\", \"banana\", \"cherry\"}\n",
        "set2 = {\"google\", \"microsoft\", \"apple\"}\n",
        "\n",
        "set3 = set1 & set2\n",
        "print(set3)"
      ],
      "metadata": {
        "colab": {
          "base_uri": "https://localhost:8080/"
        },
        "id": "P4UPtHVdnQk1",
        "outputId": "4bdfe5d2-7524-4ee9-9f93-4e2f6046c27d"
      },
      "execution_count": null,
      "outputs": [
        {
          "output_type": "stream",
          "name": "stdout",
          "text": [
            "{'apple'}\n"
          ]
        }
      ]
    },
    {
      "cell_type": "code",
      "source": [
        "et1 = {\"apple\", \"banana\", \"cherry\"}\n",
        "set2 = {\"google\", \"microsoft\", \"apple\"}\n",
        "\n",
        "set3 = set1.intersection(set2)\n",
        "print(set3)"
      ],
      "metadata": {
        "colab": {
          "base_uri": "https://localhost:8080/"
        },
        "id": "DRKy4q74nQnP",
        "outputId": "bf97577b-c313-4846-ffae-afe9f3c5cbb3"
      },
      "execution_count": null,
      "outputs": [
        {
          "output_type": "stream",
          "name": "stdout",
          "text": [
            "{'apple'}\n"
          ]
        }
      ]
    },
    {
      "cell_type": "code",
      "source": [
        "#makes changes in set 1\n",
        "\n",
        "set1 = {\"apple\", \"banana\", \"cherry\"}\n",
        "set2 = {\"google\", \"microsoft\", \"apple\"}\n",
        "\n",
        "set1.intersection_update(set2)\n",
        "\n",
        "print(set1)"
      ],
      "metadata": {
        "colab": {
          "base_uri": "https://localhost:8080/"
        },
        "id": "pD7N0Z5OnQpw",
        "outputId": "58b97679-bc2b-4749-c3d1-1188174d9b33"
      },
      "execution_count": null,
      "outputs": [
        {
          "output_type": "stream",
          "name": "stdout",
          "text": [
            "{'apple'}\n"
          ]
        }
      ]
    },
    {
      "cell_type": "code",
      "source": [
        "#diference\n",
        "\n",
        "set1 = {\"apple\", \"banana\", \"cherry\"}\n",
        "set2 = {\"google\", \"microsoft\", \"apple\"}\n",
        "\n",
        "set3 = set1.difference(set2)\n",
        "\n",
        "print(set3)"
      ],
      "metadata": {
        "colab": {
          "base_uri": "https://localhost:8080/"
        },
        "id": "K1h5o32tnQsM",
        "outputId": "b24393cc-00d8-4898-80ab-85bb2bc0bce1"
      },
      "execution_count": null,
      "outputs": [
        {
          "output_type": "stream",
          "name": "stdout",
          "text": [
            "{'cherry', 'banana'}\n"
          ]
        }
      ]
    },
    {
      "cell_type": "code",
      "source": [
        "set1 = {\"apple\", \"banana\", \"cherry\"}\n",
        "set2 = {\"google\", \"microsoft\", \"apple\"}\n",
        "\n",
        "set3 = set1 - set2\n",
        "print(set3)"
      ],
      "metadata": {
        "colab": {
          "base_uri": "https://localhost:8080/"
        },
        "id": "FT_-O5HVnQuw",
        "outputId": "9c98aecb-84ed-454a-d12d-62a0ec77221f"
      },
      "execution_count": null,
      "outputs": [
        {
          "output_type": "stream",
          "name": "stdout",
          "text": [
            "{'cherry', 'banana'}\n"
          ]
        }
      ]
    },
    {
      "cell_type": "code",
      "source": [
        "#symmetric difference\n",
        "\n",
        "set1 = {\"apple\", \"banana\", \"cherry\"}\n",
        "set2 = {\"google\", \"microsoft\", \"apple\"}\n",
        "\n",
        "set3 = set1.symmetric_difference(set2)\n",
        "\n",
        "print(set3)"
      ],
      "metadata": {
        "colab": {
          "base_uri": "https://localhost:8080/"
        },
        "id": "yM7XX5jjnQw7",
        "outputId": "91ea687c-a0e3-4119-c6dc-6fcf8102f536"
      },
      "execution_count": null,
      "outputs": [
        {
          "output_type": "stream",
          "name": "stdout",
          "text": [
            "{'banana', 'google', 'cherry', 'microsoft'}\n"
          ]
        }
      ]
    },
    {
      "cell_type": "code",
      "source": [
        "set1 = {\"apple\", \"banana\", \"cherry\"}\n",
        "set2 = {\"google\", \"microsoft\", \"apple\"}\n",
        "\n",
        "set3 = set1 ^ set2\n",
        "print(set3)"
      ],
      "metadata": {
        "colab": {
          "base_uri": "https://localhost:8080/"
        },
        "id": "4R5umRPXpQAX",
        "outputId": "538b2a2c-3504-4833-ca63-d4f93f39f570"
      },
      "execution_count": null,
      "outputs": [
        {
          "output_type": "stream",
          "name": "stdout",
          "text": [
            "{'banana', 'google', 'cherry', 'microsoft'}\n"
          ]
        }
      ]
    },
    {
      "cell_type": "code",
      "source": [
        "set1 = {\"apple\", \"banana\", \"cherry\"}\n",
        "set2 = {\"google\", \"microsoft\", \"apple\"}\n",
        "\n",
        "set1.symmetric_difference_update(set2)\n",
        "\n",
        "print(set1)"
      ],
      "metadata": {
        "colab": {
          "base_uri": "https://localhost:8080/"
        },
        "id": "GknE3-0tqC_c",
        "outputId": "57caa0a1-1195-4eca-dd84-8fd39ebc2c1d"
      },
      "execution_count": null,
      "outputs": [
        {
          "output_type": "stream",
          "name": "stdout",
          "text": [
            "{'banana', 'google', 'cherry', 'microsoft'}\n"
          ]
        }
      ]
    },
    {
      "cell_type": "code",
      "source": [
        "#write a program to find all possible subsets of a given set\n",
        "\n",
        "def power_set(s):\n",
        "  result = [[]]\n",
        "  for ele in s:\n",
        "    result.extend([subset+ [ele] for subset in result])\n",
        "  return [set(subset) for subset in result]\n",
        "\n",
        "input_set = {1,2,3}\n",
        "powerset = power_set(input_set)\n",
        "print(powerset)"
      ],
      "metadata": {
        "id": "-Rq5SQ7NqKYt",
        "colab": {
          "base_uri": "https://localhost:8080/"
        },
        "outputId": "9fcdc3e9-1d10-4879-950f-d2d766796ec7"
      },
      "execution_count": null,
      "outputs": [
        {
          "output_type": "stream",
          "name": "stdout",
          "text": [
            "[set(), {1}, {2}, {1, 2}, {3}, {1, 3}, {2, 3}, {1, 2, 3}]\n"
          ]
        }
      ]
    },
    {
      "cell_type": "code",
      "source": [
        "#dictionary\n",
        "# creating a dictionary\n",
        "\n",
        "\n",
        "this_dict = {\n",
        "  \"brand\": \"Ford\",\n",
        "  \"model\": \"Mustang\",\n",
        "  \"year\": 1964\n",
        "}\n",
        "print(this_dict)\n",
        "\n",
        "thisdict2 = dict(name = \"John\", age = 36, country = \"Norway\")\n",
        "print(thisdict2)"
      ],
      "metadata": {
        "id": "AAVA0iMdvIOT",
        "colab": {
          "base_uri": "https://localhost:8080/"
        },
        "outputId": "3b11f1ee-e389-44bc-a2d8-99fea0d596c4"
      },
      "execution_count": null,
      "outputs": [
        {
          "output_type": "stream",
          "name": "stdout",
          "text": [
            "{'brand': 'Ford', 'model': 'Mustang', 'year': 1964}\n",
            "{'name': 'John', 'age': 36, 'country': 'Norway'}\n"
          ]
        }
      ]
    },
    {
      "cell_type": "code",
      "source": [
        "#dictionary\n",
        "# creating a dictionary\n",
        "\n",
        "\n",
        "this_dict = {\n",
        "  \"brand\": \"Ford\",\n",
        "  \"model\": \"Mustang\",\n",
        "  \"year\": 1964\n",
        "}\n",
        "print(this_dict)\n",
        "\n",
        "thisdict2 = dict(name = \"John\", age = 36, country = \"Norway\")\n",
        "print(thisdict2)"
      ],
      "metadata": {
        "colab": {
          "base_uri": "https://localhost:8080/"
        },
        "outputId": "3b11f1ee-e389-44bc-a2d8-99fea0d596c4",
        "id": "QYC6KBYPTV7w"
      },
      "execution_count": null,
      "outputs": [
        {
          "output_type": "stream",
          "name": "stdout",
          "text": [
            "{'brand': 'Ford', 'model': 'Mustang', 'year': 1964}\n",
            "{'name': 'John', 'age': 36, 'country': 'Norway'}\n"
          ]
        }
      ]
    },
    {
      "cell_type": "code",
      "source": [
        "my_dict={}\n",
        "\n",
        "my_dict['name']= 'Alice'\n",
        "my_dict['age']= 30\n",
        "my_dict['city']= 'New York'\n",
        "\n",
        "print(\"initial dictionary:\",my_dict)\n",
        "print(\"name:\",my_dict['name'])\n",
        "print(\"age:\",my_dict['age'])\n",
        "print(\"city:\",my_dict['city'])\n",
        "\n",
        "x=my_dict.keys()\n",
        "print(x)\n",
        "\n",
        "y=my_dict.values()\n",
        "print(y)\n",
        "\n",
        "z= my_dict.items()\n",
        "print(z)\n",
        "\n",
        "m=my_dict.get('city')\n",
        "print(m)\n"
      ],
      "metadata": {
        "colab": {
          "base_uri": "https://localhost:8080/"
        },
        "id": "3urHnBSN6_S7",
        "outputId": "4d8f4068-c543-49fc-c889-722e2350b85f"
      },
      "execution_count": null,
      "outputs": [
        {
          "output_type": "stream",
          "name": "stdout",
          "text": [
            "initial dictionary: {'name': 'Alice', 'age': 30, 'city': 'New York'}\n",
            "name: Alice\n",
            "age: 30\n",
            "city: New York\n",
            "dict_keys(['name', 'age', 'city'])\n",
            "dict_values(['Alice', 30, 'New York'])\n",
            "dict_items([('name', 'Alice'), ('age', 30), ('city', 'New York')])\n",
            "New York\n"
          ]
        }
      ]
    },
    {
      "cell_type": "code",
      "source": [
        "for x in my_dict:\n",
        "  print(x)\n",
        "for x in my_dict:\n",
        "  print(my_dict[x])\n",
        "\n",
        "for x in my_dict.keys():\n",
        "  print(\"keys\",x)\n",
        "\n",
        "for x in my_dict.values():\n",
        "  print(\"values:\",x)\n",
        "\n",
        "for x,y in my_dict.items():\n",
        "  print(\"items\",x,y)"
      ],
      "metadata": {
        "id": "uMIbmgHq7_Th",
        "colab": {
          "base_uri": "https://localhost:8080/"
        },
        "outputId": "1b855900-b6af-489b-d6a4-4a2ba072d00e"
      },
      "execution_count": null,
      "outputs": [
        {
          "output_type": "stream",
          "name": "stdout",
          "text": [
            "name\n",
            "age\n",
            "city\n",
            "Alice\n",
            "30\n",
            "New York\n",
            "keys name\n",
            "keys age\n",
            "keys city\n",
            "values: Alice\n",
            "values: 30\n",
            "values: New York\n",
            "items name Alice\n",
            "items age 30\n",
            "items city New York\n"
          ]
        }
      ]
    },
    {
      "cell_type": "code",
      "source": [
        "print(\"key value pair:\")\n",
        "\n",
        "for key, value in my_dict.items():\n",
        "  print(key,\":\",value)"
      ],
      "metadata": {
        "colab": {
          "base_uri": "https://localhost:8080/"
        },
        "id": "rw3PHyDxipjF",
        "outputId": "19855fc3-dbc8-4ac6-8900-0d143619d779"
      },
      "execution_count": null,
      "outputs": [
        {
          "output_type": "stream",
          "name": "stdout",
          "text": [
            "key value pair:\n",
            "name : Alice\n",
            "age : 30\n",
            "city : New York\n"
          ]
        }
      ]
    },
    {
      "cell_type": "code",
      "source": [
        "if 'name' in my_dict:\n",
        "  print(\"yes\")\n",
        "else:\n",
        "  print(\"no\")"
      ],
      "metadata": {
        "colab": {
          "base_uri": "https://localhost:8080/"
        },
        "id": "gYtHORpBjTU1",
        "outputId": "3a5e38d9-f725-4a4f-b5d9-08210f68d5e7"
      },
      "execution_count": null,
      "outputs": [
        {
          "output_type": "stream",
          "name": "stdout",
          "text": [
            "yes\n"
          ]
        }
      ]
    },
    {
      "cell_type": "code",
      "source": [
        "my_dict['age']=25\n",
        "print(\"modified age:\",my_dict['age'])\n",
        "\n",
        "my_dict.update({\"age\":26})\n",
        "\n",
        "#adding to dictionary\n",
        "\n",
        "my_dict[\"color1\"] = \"fair\"\n",
        "print(my_dict)"
      ],
      "metadata": {
        "colab": {
          "base_uri": "https://localhost:8080/"
        },
        "id": "un1Bu_LHjvMv",
        "outputId": "1dc01120-c1a1-4379-fc4b-379636294847"
      },
      "execution_count": null,
      "outputs": [
        {
          "output_type": "stream",
          "name": "stdout",
          "text": [
            "modified age: 25\n",
            "{'name': 'Alice', 'age': 26, 'city': 'New York', 'color1': 'fair'}\n"
          ]
        }
      ]
    },
    {
      "cell_type": "code",
      "source": [
        "#removing values\n",
        "\n",
        "removed_value = my_dict.pop(\"city\")\n",
        "print(\"removed value:\",removed_value)\n",
        "print(\"updated dictionary:\",my_dict)\n",
        "\n"
      ],
      "metadata": {
        "colab": {
          "base_uri": "https://localhost:8080/"
        },
        "id": "4nV4_3TpklOJ",
        "outputId": "9f59cf02-d53c-41ce-f5fd-7d212aa23530"
      },
      "execution_count": null,
      "outputs": [
        {
          "output_type": "stream",
          "name": "stdout",
          "text": [
            "removed value: New York\n",
            "updated dictionary: {'name': 'Alice', 'age': 26, 'color1': 'fair'}\n"
          ]
        }
      ]
    },
    {
      "cell_type": "code",
      "source": [
        "#removing the last inserted item\n",
        "#using pop item()\n",
        "removed_item = my_dict.popitem()\n",
        "print(\"removed item:\",removed_item)\n",
        "print(\"updated dictionary:\",my_dict)"
      ],
      "metadata": {
        "colab": {
          "base_uri": "https://localhost:8080/"
        },
        "id": "Qwz5bjQBlvyr",
        "outputId": "8e41986a-bfee-4c5c-aaa5-eaaf54496077"
      },
      "execution_count": null,
      "outputs": [
        {
          "output_type": "stream",
          "name": "stdout",
          "text": [
            "removed item: ('color1', 'fair')\n",
            "updated dictionary: {'name': 'Alice', 'age': 26}\n"
          ]
        }
      ]
    },
    {
      "cell_type": "code",
      "source": [
        "my_dict.clear()\n",
        "print(\"cleared dictionary:\",my_dict)\n",
        "\n",
        "del my_dict\n",
        "#deletes dictionary completely"
      ],
      "metadata": {
        "colab": {
          "base_uri": "https://localhost:8080/"
        },
        "id": "YpRv47sel3s5",
        "outputId": "8e45cd66-5e74-4bff-8a53-47d5ae24593a"
      },
      "execution_count": null,
      "outputs": [
        {
          "output_type": "stream",
          "name": "stdout",
          "text": [
            "cleared dictionary: {}\n"
          ]
        }
      ]
    }
  ]
}